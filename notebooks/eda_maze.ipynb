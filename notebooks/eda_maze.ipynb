{
 "cells": [
  {
   "cell_type": "markdown",
   "metadata": {},
   "source": [
    "# Reinforcement Learning - Mace\n",
    "\n",
    "source: https://github.com/gkhayes/maze_reinforcement_learning"
   ]
  },
  {
   "cell_type": "markdown",
   "metadata": {},
   "source": [
    "check this out (later): https://samyzaf.com/ML/rl/qmaze.html"
   ]
  },
  {
   "cell_type": "markdown",
   "metadata": {},
   "source": [
    "# Part 1 - Looking at Environment"
   ]
  },
  {
   "cell_type": "code",
   "execution_count": 1,
   "metadata": {},
   "outputs": [],
   "source": [
    "import numpy as np"
   ]
  },
  {
   "cell_type": "code",
   "execution_count": 2,
   "metadata": {},
   "outputs": [],
   "source": [
    "# Create transition and reward matrices\n",
    "def create_matrices(maze, reward, penalty_s, penalty_l, prob):\n",
    "    \"\"\"Create reward and transition matrices for input into the mdp QLearning\n",
    "    function\n",
    "    \n",
    "    Args:\n",
    "    maze:  array. 0-1 numpy array giving the positions of the white cells\n",
    "           (denoted 1) and the gray cells (denoted 0) in the maze;\n",
    "    reward: float. Reward for reaching the end of the maze;\n",
    "    penalty_s: float. Penalty for entering a white cell;\n",
    "    penalty_l: float. Penalty for entering a gray cell;\n",
    "    prob: float. Probability of moving in the intended direction.\n",
    "    \n",
    "    Returns:\n",
    "    R: array. Reward matrix;\n",
    "    T: array. Transition matrix.\n",
    "    \"\"\"\n",
    "    \n",
    "    r, c = np.shape(maze)\n",
    "    states = r*c\n",
    "    p = prob\n",
    "    q = (1 - prob)*0.5\n",
    "    \n",
    "    # Create reward matrix\n",
    "    path = maze*penalty_s  # each white cell ( =path) gets a penalty\n",
    "    walls = (1 - maze)*penalty_l # each wall cell gets a penalty\n",
    "    combined = path + walls\n",
    "    print('path')\n",
    "    print(path)\n",
    "    print('\\nwalls')\n",
    "    print(walls)\n",
    "    print('\\ncombined')\n",
    "    print(combined)\n",
    "    print(combined[-1, -1])\n",
    "    \n",
    "    combined[-1, -1] = reward\n",
    "            \n",
    "    R = np.reshape(combined, states)\n",
    "    \n",
    "    # Create transition matrix\n",
    "    T_up = np.zeros((states, states))\n",
    "    T_left = np.zeros((states, states))\n",
    "    T_right = np.zeros((states, states))\n",
    "    T_down = np.zeros((states, states))\n",
    "    \n",
    "    wall_ind = np.where(R == penalty_l)[0]\n",
    "    print('wall_ind')\n",
    "    print(wall_ind)\n",
    "\n",
    "    for i in range(states):\n",
    "        # Up\n",
    "        if (i - c) < 0 or (i - c) in wall_ind :\n",
    "            T_up[i, i] += p\n",
    "        else:\n",
    "            T_up[i, i - c] += p\n",
    "        \n",
    "        if i%c == 0 or (i - 1) in wall_ind:\n",
    "            T_up[i, i] += q\n",
    "        else:\n",
    "            T_up[i, i-1] += q\n",
    "        \n",
    "        if i%c == (c - 1) or (i + 1) in wall_ind:\n",
    "            T_up[i, i] += q\n",
    "        else:\n",
    "            T_up[i, i+1] += q\n",
    "            \n",
    "        # Down\n",
    "        if (i + c) > (states - 1) or (i + c) in wall_ind:\n",
    "            T_down[i, i] += p\n",
    "        else:\n",
    "            T_down[i, i + c] += p\n",
    "        \n",
    "        if i%c == 0 or (i - 1) in wall_ind:\n",
    "            T_down[i, i] += q\n",
    "        else:\n",
    "            T_down[i, i-1] += q\n",
    "        \n",
    "        if i%c == (c - 1) or (i + 1) in wall_ind:\n",
    "            T_down[i, i] += q\n",
    "        else:\n",
    "            T_down[i, i+1] += q\n",
    "            \n",
    "        # Left\n",
    "        if i%c == 0 or (i - 1) in wall_ind:\n",
    "            T_left[i, i] += p\n",
    "        else:\n",
    "            T_left[i, i-1] += p\n",
    "            \n",
    "        if (i - c) < 0 or (i - c) in wall_ind:\n",
    "            T_left[i, i] += q\n",
    "        else:\n",
    "            T_left[i, i - c] += q\n",
    "        \n",
    "        if (i + c) > (states - 1) or (i + c) in wall_ind:\n",
    "            T_left[i, i] += q\n",
    "        else:\n",
    "            T_left[i, i + c] += q\n",
    "        \n",
    "        # Right\n",
    "        if i%c == (c - 1) or (i + 1) in wall_ind:\n",
    "            T_right[i, i] += p\n",
    "        else:\n",
    "            T_right[i, i+1] += p\n",
    "            \n",
    "        if (i - c) < 0 or (i - c) in wall_ind:\n",
    "            T_right[i, i] += q\n",
    "        else:\n",
    "            T_right[i, i - c] += q\n",
    "        \n",
    "        if (i + c) > (states - 1) or (i + c) in wall_ind:\n",
    "            T_right[i, i] += q\n",
    "        else:\n",
    "            T_right[i, i + c] += q\n",
    "    \n",
    "    T = [T_up, T_left, T_right, T_down] \n",
    "    \n",
    "    return T, R"
   ]
  },
  {
   "cell_type": "code",
   "execution_count": 3,
   "metadata": {},
   "outputs": [
    {
     "name": "stdout",
     "output_type": "stream",
     "text": [
      "path\n",
      "[[-0.04 -0.   -0.04 -0.04 -0.04 -0.04 -0.04]\n",
      " [-0.04 -0.04 -0.04 -0.   -0.   -0.04 -0.  ]\n",
      " [-0.   -0.   -0.   -0.04 -0.04 -0.04 -0.  ]\n",
      " [-0.04 -0.04 -0.04 -0.04 -0.   -0.   -0.04]\n",
      " [-0.04 -0.   -0.   -0.   -0.04 -0.04 -0.04]\n",
      " [-0.04 -0.   -0.04 -0.04 -0.04 -0.04 -0.04]\n",
      " [-0.04 -0.04 -0.04 -0.   -0.04 -0.04 -0.04]]\n",
      "\n",
      "walls\n",
      "[[-0.   -0.75 -0.   -0.   -0.   -0.   -0.  ]\n",
      " [-0.   -0.   -0.   -0.75 -0.75 -0.   -0.75]\n",
      " [-0.75 -0.75 -0.75 -0.   -0.   -0.   -0.75]\n",
      " [-0.   -0.   -0.   -0.   -0.75 -0.75 -0.  ]\n",
      " [-0.   -0.75 -0.75 -0.75 -0.   -0.   -0.  ]\n",
      " [-0.   -0.75 -0.   -0.   -0.   -0.   -0.  ]\n",
      " [-0.   -0.   -0.   -0.75 -0.   -0.   -0.  ]]\n",
      "\n",
      "combined\n",
      "[[-0.04 -0.75 -0.04 -0.04 -0.04 -0.04 -0.04]\n",
      " [-0.04 -0.04 -0.04 -0.75 -0.75 -0.04 -0.75]\n",
      " [-0.75 -0.75 -0.75 -0.04 -0.04 -0.04 -0.75]\n",
      " [-0.04 -0.04 -0.04 -0.04 -0.75 -0.75 -0.04]\n",
      " [-0.04 -0.75 -0.75 -0.75 -0.04 -0.04 -0.04]\n",
      " [-0.04 -0.75 -0.04 -0.04 -0.04 -0.04 -0.04]\n",
      " [-0.04 -0.04 -0.04 -0.75 -0.04 -0.04 -0.04]]\n",
      "-0.04\n",
      "wall_ind\n",
      "[ 1 10 11 13 14 15 16 20 25 26 29 30 31 36 45]\n"
     ]
    }
   ],
   "source": [
    "# Define maze array\n",
    "maze =  np.array([\n",
    "    [ 1.,  0.,  1.,  1.,  1.,  1.,  1.],\n",
    "    [ 1.,  1.,  1.,  0.,  0.,  1.,  0.],\n",
    "    [ 0.,  0.,  0.,  1.,  1.,  1.,  0.],\n",
    "    [ 1.,  1.,  1.,  1.,  0.,  0.,  1.],\n",
    "    [ 1.,  0.,  0.,  0.,  1.,  1.,  1.],\n",
    "    [ 1.,  0.,  1.,  1.,  1.,  1.,  1.],\n",
    "    [ 1.,  1.,  1.,  0.,  1.,  1.,  1.]]) \n",
    "    \n",
    "# Create transition and reward matrices\n",
    "T, R = create_matrices(maze=maze, reward=1, penalty_s=-0.04, penalty_l=-0.75, prob=0.8)"
   ]
  },
  {
   "cell_type": "code",
   "execution_count": 4,
   "metadata": {},
   "outputs": [
    {
     "data": {
      "text/plain": [
       "array([-0.04, -0.75, -0.04, -0.04, -0.04, -0.04, -0.04, -0.04, -0.04,\n",
       "       -0.04, -0.75, -0.75, -0.04, -0.75, -0.75, -0.75, -0.75, -0.04,\n",
       "       -0.04, -0.04, -0.75, -0.04, -0.04, -0.04, -0.04, -0.75, -0.75,\n",
       "       -0.04, -0.04, -0.75, -0.75, -0.75, -0.04, -0.04, -0.04, -0.04,\n",
       "       -0.75, -0.04, -0.04, -0.04, -0.04, -0.04, -0.04, -0.04, -0.04,\n",
       "       -0.75, -0.04, -0.04,  1.  ])"
      ]
     },
     "execution_count": 4,
     "metadata": {},
     "output_type": "execute_result"
    }
   ],
   "source": [
    "R"
   ]
  },
  {
   "cell_type": "code",
   "execution_count": 5,
   "metadata": {},
   "outputs": [
    {
     "data": {
      "text/plain": [
       "[array([[1. , 0. , 0. , ..., 0. , 0. , 0. ],\n",
       "        [0.1, 0.8, 0.1, ..., 0. , 0. , 0. ],\n",
       "        [0. , 0. , 0.9, ..., 0. , 0. , 0. ],\n",
       "        ...,\n",
       "        [0. , 0. , 0. , ..., 0.1, 0.1, 0. ],\n",
       "        [0. , 0. , 0. , ..., 0.1, 0. , 0.1],\n",
       "        [0. , 0. , 0. , ..., 0. , 0.1, 0.1]]),\n",
       " array([[0.9, 0. , 0. , ..., 0. , 0. , 0. ],\n",
       "        [0.8, 0.1, 0. , ..., 0. , 0. , 0. ],\n",
       "        [0. , 0. , 0.9, ..., 0. , 0. , 0. ],\n",
       "        ...,\n",
       "        [0. , 0. , 0. , ..., 0.9, 0. , 0. ],\n",
       "        [0. , 0. , 0. , ..., 0.8, 0.1, 0. ],\n",
       "        [0. , 0. , 0. , ..., 0. , 0.8, 0.1]]),\n",
       " array([[0.9, 0. , 0. , ..., 0. , 0. , 0. ],\n",
       "        [0. , 0.1, 0.8, ..., 0. , 0. , 0. ],\n",
       "        [0. , 0. , 0.1, ..., 0. , 0. , 0. ],\n",
       "        ...,\n",
       "        [0. , 0. , 0. , ..., 0.1, 0.8, 0. ],\n",
       "        [0. , 0. , 0. , ..., 0. , 0.1, 0.8],\n",
       "        [0. , 0. , 0. , ..., 0. , 0. , 0.9]]),\n",
       " array([[0.2, 0. , 0. , ..., 0. , 0. , 0. ],\n",
       "        [0.1, 0. , 0.1, ..., 0. , 0. , 0. ],\n",
       "        [0. , 0. , 0.1, ..., 0. , 0. , 0. ],\n",
       "        ...,\n",
       "        [0. , 0. , 0. , ..., 0.9, 0.1, 0. ],\n",
       "        [0. , 0. , 0. , ..., 0.1, 0.8, 0.1],\n",
       "        [0. , 0. , 0. , ..., 0. , 0.1, 0.9]])]"
      ]
     },
     "execution_count": 5,
     "metadata": {},
     "output_type": "execute_result"
    }
   ],
   "source": [
    "T"
   ]
  },
  {
   "cell_type": "code",
   "execution_count": 6,
   "metadata": {},
   "outputs": [
    {
     "data": {
      "text/plain": [
       "array([[0.9, 0. , 0. , ..., 0. , 0. , 0. ],\n",
       "       [0.8, 0.1, 0. , ..., 0. , 0. , 0. ],\n",
       "       [0. , 0. , 0.9, ..., 0. , 0. , 0. ],\n",
       "       ...,\n",
       "       [0. , 0. , 0. , ..., 0.9, 0. , 0. ],\n",
       "       [0. , 0. , 0. , ..., 0.8, 0.1, 0. ],\n",
       "       [0. , 0. , 0. , ..., 0. , 0.8, 0.1]])"
      ]
     },
     "execution_count": 6,
     "metadata": {},
     "output_type": "execute_result"
    }
   ],
   "source": [
    "T[1]"
   ]
  },
  {
   "cell_type": "code",
   "execution_count": 8,
   "metadata": {},
   "outputs": [
    {
     "data": {
      "text/plain": [
       "(49, 49)"
      ]
     },
     "execution_count": 8,
     "metadata": {},
     "output_type": "execute_result"
    }
   ],
   "source": [
    "T[1].shape"
   ]
  },
  {
   "cell_type": "code",
   "execution_count": 12,
   "metadata": {},
   "outputs": [
    {
     "data": {
      "text/plain": [
       "array([1., 0., 0., 0., 0., 0., 0., 0., 0., 0., 0., 0., 0., 0., 0., 0., 0.,\n",
       "       0., 0., 0., 0., 0., 0., 0., 0., 0., 0., 0., 0., 0., 0., 0., 0., 0.,\n",
       "       0., 0., 0., 0., 0., 0., 0., 0., 0., 0., 0., 0., 0., 0., 0.])"
      ]
     },
     "execution_count": 12,
     "metadata": {},
     "output_type": "execute_result"
    }
   ],
   "source": [
    "T[0][0]"
   ]
  },
  {
   "cell_type": "code",
   "execution_count": 13,
   "metadata": {},
   "outputs": [
    {
     "data": {
      "text/plain": [
       "array([0.1, 0.8, 0.1, 0. , 0. , 0. , 0. , 0. , 0. , 0. , 0. , 0. , 0. ,\n",
       "       0. , 0. , 0. , 0. , 0. , 0. , 0. , 0. , 0. , 0. , 0. , 0. , 0. ,\n",
       "       0. , 0. , 0. , 0. , 0. , 0. , 0. , 0. , 0. , 0. , 0. , 0. , 0. ,\n",
       "       0. , 0. , 0. , 0. , 0. , 0. , 0. , 0. , 0. , 0. ])"
      ]
     },
     "execution_count": 13,
     "metadata": {},
     "output_type": "execute_result"
    }
   ],
   "source": [
    "T[0][1]"
   ]
  },
  {
   "cell_type": "code",
   "execution_count": 14,
   "metadata": {},
   "outputs": [
    {
     "data": {
      "text/plain": [
       "array([0. , 0. , 0.9, 0.1, 0. , 0. , 0. , 0. , 0. , 0. , 0. , 0. , 0. ,\n",
       "       0. , 0. , 0. , 0. , 0. , 0. , 0. , 0. , 0. , 0. , 0. , 0. , 0. ,\n",
       "       0. , 0. , 0. , 0. , 0. , 0. , 0. , 0. , 0. , 0. , 0. , 0. , 0. ,\n",
       "       0. , 0. , 0. , 0. , 0. , 0. , 0. , 0. , 0. , 0. ])"
      ]
     },
     "execution_count": 14,
     "metadata": {},
     "output_type": "execute_result"
    }
   ],
   "source": [
    "T[0][2]"
   ]
  },
  {
   "cell_type": "code",
   "execution_count": 15,
   "metadata": {},
   "outputs": [
    {
     "data": {
      "text/plain": [
       "array([0. , 0. , 0.1, 0.8, 0.1, 0. , 0. , 0. , 0. , 0. , 0. , 0. , 0. ,\n",
       "       0. , 0. , 0. , 0. , 0. , 0. , 0. , 0. , 0. , 0. , 0. , 0. , 0. ,\n",
       "       0. , 0. , 0. , 0. , 0. , 0. , 0. , 0. , 0. , 0. , 0. , 0. , 0. ,\n",
       "       0. , 0. , 0. , 0. , 0. , 0. , 0. , 0. , 0. , 0. ])"
      ]
     },
     "execution_count": 15,
     "metadata": {},
     "output_type": "execute_result"
    }
   ],
   "source": [
    "T[0][3]"
   ]
  },
  {
   "cell_type": "code",
   "execution_count": null,
   "metadata": {},
   "outputs": [],
   "source": []
  }
 ],
 "metadata": {
  "kernelspec": {
   "display_name": "Python 3",
   "language": "python",
   "name": "python3"
  },
  "language_info": {
   "codemirror_mode": {
    "name": "ipython",
    "version": 3
   },
   "file_extension": ".py",
   "mimetype": "text/x-python",
   "name": "python",
   "nbconvert_exporter": "python",
   "pygments_lexer": "ipython3",
   "version": "3.6.6"
  }
 },
 "nbformat": 4,
 "nbformat_minor": 2
}
