{
 "cells": [
  {
   "cell_type": "markdown",
   "metadata": {},
   "source": [
    "# Maze 20x20 - v2"
   ]
  },
  {
   "cell_type": "code",
   "execution_count": 1,
   "metadata": {},
   "outputs": [
    {
     "name": "stderr",
     "output_type": "stream",
     "text": [
      "Using TensorFlow backend.\n"
     ]
    }
   ],
   "source": [
    "import utils_maze as utils\n",
    "\n",
    "import numpy as np\n",
    "import datetime\n",
    "import matplotlib.pyplot as plt\n",
    "# import imageio\n",
    "import os\n",
    "\n",
    "%matplotlib inline"
   ]
  },
  {
   "cell_type": "markdown",
   "metadata": {},
   "source": [
    "![SegmentLocal](20190604_1924_gif_20x20v2/seq_movie.gif \"segment\")"
   ]
  },
  {
   "cell_type": "code",
   "execution_count": 2,
   "metadata": {},
   "outputs": [],
   "source": [
    "rat_mark = 0.5      # The current rat cell will be painteg by gray 0.5\n",
    "epsilon = 0.1       # Exploration factor\n",
    "\n",
    "LEFT = 0\n",
    "UP = 1\n",
    "RIGHT = 2\n",
    "DOWN = 3\n",
    "\n",
    "# Actions dictionary\n",
    "actions_dict = {\n",
    "    LEFT: 'left',\n",
    "    UP: 'up',\n",
    "    RIGHT: 'right',\n",
    "    DOWN: 'down',\n",
    "}\n",
    "num_actions = len(actions_dict)\n",
    "\n",
    "\n",
    "\n",
    "\n",
    "maze =  np.array([\n",
    "    [ 1.,  1.,  1.,  1.,  1.,  1.,  1.,  1., 1.,  1.,  1.,  1.,  1.,  1.,  1.,  1., 1., 1., 1., 1.],  #1\n",
    "    [ 1.,  0.,  0.,  0.,  0.,  0.,  0.,  0., 0.,  0.,  0.,  0.,  0.,  0.,  0.,  0., 0., 0., 0., 1.],  #2\n",
    "    [ 1.,  0.,  0.,  0.,  0.,  0.,  0.,  0., 0.,  0.,  0.,  0.,  0.,  0.,  0.,  0., 0., 0., 0., 1.],  #3\n",
    "    [ 1.,  0.,  0.,  0.,  0.,  0.,  0.,  0., 0.,  0.,  0.,  0.,  0.,  0.,  0.,  0., 0., 0., 0., 1.],  #4\n",
    "    [ 1.,  0.,  0.,  0.,  0.,  0.,  0.,  0., 0.,  0.,  0.,  0.,  0.,  0.,  0.,  0., 0., 0., 0., 1.],  #5\n",
    "    [ 1.,  0.,  0.,  0.,  0.,  0.,  0.,  0., 0.,  0.,  0.,  0.,  0.,  0.,  0.,  0., 0., 0., 0., 1.],  #6\n",
    "    [ 1.,  0.,  0.,  0.,  0.,  0.,  0.,  0., 0.,  0.,  0.,  0.,  0.,  0.,  0.,  0., 0., 0., 0., 1.],\n",
    "    [ 1.,  0.,  0.,  0.,  0.,  0.,  0.,  0., 0.,  0.,  0.,  0.,  0.,  0.,  0.,  0., 0., 0., 0., 1.],\n",
    "    [ 1.,  0.,  0.,  0.,  0.,  0.,  0.,  0., 0.,  0.,  0.,  0.,  0.,  0.,  0.,  0., 0., 0., 0., 1.],\n",
    "    [ 1.,  0.,  0.,  0.,  0.,  0.,  0.,  0., 0.,  0.,  0.,  0.,  0.,  0.,  0.,  0., 0., 0., 0., 1.],\n",
    "    [ 1.,  0.,  0.,  0.,  0.,  0.,  0.,  0., 0.,  0.,  0.,  0.,  0.,  0.,  0.,  0., 0., 0., 0., 1.],\n",
    "    [ 1.,  0.,  0.,  0.,  0.,  0.,  0.,  0., 0.,  0.,  0.,  0.,  0.,  0.,  0.,  0., 0., 0., 0., 1.],\n",
    "    [ 1.,  0.,  0.,  0.,  0.,  0.,  0.,  0., 0.,  0.,  0.,  0.,  0.,  0.,  0.,  0., 0., 0., 0., 1.],\n",
    "    [ 1.,  0.,  0.,  0.,  0.,  0.,  0.,  0., 0.,  0.,  0.,  0.,  0.,  0.,  0.,  0., 0., 0., 0., 1.],\n",
    "    [ 1.,  0.,  0.,  0.,  0.,  0.,  0.,  0., 0.,  0.,  0.,  0.,  0.,  0.,  0.,  0., 0., 0., 0., 1.],  #15\n",
    "    [ 1.,  0.,  0.,  0.,  0.,  0.,  0.,  0., 0.,  0.,  0.,  0.,  0.,  0.,  0.,  0., 0., 0., 0., 1.],  #16\n",
    "    [ 1.,  0.,  0.,  0.,  0.,  0.,  0.,  0., 0.,  0.,  0.,  0.,  0.,  0.,  0.,  0., 0., 0., 0., 1.],  #17\n",
    "    [ 1.,  0.,  0.,  0.,  0.,  0.,  0.,  0., 0.,  0.,  0.,  0.,  0.,  0.,  0.,  0., 0., 0., 0., 1.],  #18\n",
    "    [ 1.,  0.,  0.,  0.,  0.,  0.,  0.,  0., 0.,  0.,  0.,  0.,  0.,  0.,  0.,  0., 0., 0., 0., 1.],  #19\n",
    "    [ 1.,  1.,  1.,  1.,  1.,  1.,  1.,  1., 1.,  1.,  1.,  1.,  1.,  1.,  1.,  1., 1., 1., 1., 1.]   #20\n",
    "])"
   ]
  },
  {
   "cell_type": "code",
   "execution_count": 3,
   "metadata": {},
   "outputs": [
    {
     "name": "stdout",
     "output_type": "stream",
     "text": [
      "Successfully created the directory 20190604_1924_gif \n",
      "Successfully created the directory 20190604_1924_gif/pngs \n"
     ]
    }
   ],
   "source": [
    "now_str = datetime.datetime.now().strftime('%Y%m%d_%H%M')\n",
    "folder_name_gif = now_str + '_gif'\n",
    "folder_name_pngs = folder_name_gif + '/pngs'\n",
    "\n",
    "utils.create_folder(folder_name_gif)\n",
    "utils.create_folder(folder_name_pngs)"
   ]
  },
  {
   "cell_type": "code",
   "execution_count": 4,
   "metadata": {},
   "outputs": [
    {
     "name": "stdout",
     "output_type": "stream",
     "text": [
      "number of epochs=  1000\n",
      "Epoch: 000/999 | Loss: 0.0040 | Episodes: 94 | Win count: 1 | Win rate: 0.000 | time: 10.3 seconds\n",
      "Epoch: 001/999 | Loss: 0.0021 | Episodes: 54 | Win count: 2 | Win rate: 0.000 | time: 14.5 seconds\n",
      "Epoch: 002/999 | Loss: 0.0015 | Episodes: 6 | Win count: 3 | Win rate: 0.000 | time: 15.0 seconds\n",
      "Epoch: 003/999 | Loss: 0.0194 | Episodes: 32 | Win count: 4 | Win rate: 0.000 | time: 18.1 seconds\n",
      "Epoch: 004/999 | Loss: 0.0232 | Episodes: 61 | Win count: 5 | Win rate: 0.000 | time: 24.1 seconds\n",
      "Epoch: 005/999 | Loss: 0.0207 | Episodes: 36 | Win count: 6 | Win rate: 0.000 | time: 27.1 seconds\n",
      "Epoch: 006/999 | Loss: 0.0048 | Episodes: 108 | Win count: 7 | Win rate: 0.000 | time: 36.0 seconds\n",
      "Epoch: 007/999 | Loss: 0.0294 | Episodes: 62 | Win count: 8 | Win rate: 0.000 | time: 41.2 seconds\n",
      "Epoch: 008/999 | Loss: 0.0053 | Episodes: 52 | Win count: 9 | Win rate: 0.000 | time: 45.3 seconds\n",
      "Epoch: 009/999 | Loss: 0.0237 | Episodes: 43 | Win count: 10 | Win rate: 0.000 | time: 48.9 seconds\n",
      "Epoch: 010/999 | Loss: 0.0039 | Episodes: 129 | Win count: 11 | Win rate: 0.000 | time: 60.0 seconds\n",
      "Epoch: 011/999 | Loss: 0.0092 | Episodes: 229 | Win count: 12 | Win rate: 0.000 | time: 80.2 seconds\n",
      "Epoch: 012/999 | Loss: 0.0074 | Episodes: 8 | Win count: 13 | Win rate: 0.000 | time: 81.0 seconds\n",
      "Epoch: 013/999 | Loss: 0.0047 | Episodes: 66 | Win count: 14 | Win rate: 0.000 | time: 87.0 seconds\n",
      "Epoch: 014/999 | Loss: 0.0084 | Episodes: 9 | Win count: 15 | Win rate: 0.000 | time: 87.7 seconds\n",
      "Epoch: 015/999 | Loss: 0.0149 | Episodes: 33 | Win count: 16 | Win rate: 0.000 | time: 90.4 seconds\n",
      "Epoch: 016/999 | Loss: 0.0114 | Episodes: 9 | Win count: 17 | Win rate: 0.000 | time: 91.3 seconds\n",
      "Epoch: 017/999 | Loss: 0.0025 | Episodes: 35 | Win count: 18 | Win rate: 0.000 | time: 94.3 seconds\n",
      "Epoch: 018/999 | Loss: 0.0063 | Episodes: 120 | Win count: 19 | Win rate: 0.000 | time: 104.4 seconds\n",
      "Epoch: 019/999 | Loss: 0.0093 | Episodes: 6 | Win count: 20 | Win rate: 0.000 | time: 104.9 seconds\n",
      "Epoch: 020/999 | Loss: 0.0034 | Episodes: 7 | Win count: 21 | Win rate: 0.000 | time: 105.4 seconds\n",
      "Epoch: 021/999 | Loss: 0.0207 | Episodes: 33 | Win count: 22 | Win rate: 0.000 | time: 108.1 seconds\n",
      "Epoch: 022/999 | Loss: 0.0027 | Episodes: 817 | Win count: 22 | Win rate: 0.000 | time: 187.3 seconds\n",
      "Epoch: 023/999 | Loss: 0.0043 | Episodes: 120 | Win count: 23 | Win rate: 0.000 | time: 197.5 seconds\n",
      "Epoch: 024/999 | Loss: 0.0023 | Episodes: 78 | Win count: 24 | Win rate: 0.000 | time: 204.9 seconds\n",
      "Epoch: 025/999 | Loss: 0.0052 | Episodes: 15 | Win count: 25 | Win rate: 0.000 | time: 206.4 seconds\n",
      "Epoch: 026/999 | Loss: 0.0032 | Episodes: 11 | Win count: 26 | Win rate: 0.000 | time: 207.5 seconds\n",
      "Epoch: 027/999 | Loss: 0.0050 | Episodes: 3 | Win count: 27 | Win rate: 0.000 | time: 207.9 seconds\n",
      "Epoch: 028/999 | Loss: 0.0333 | Episodes: 30 | Win count: 28 | Win rate: 0.000 | time: 210.6 seconds\n",
      "Epoch: 029/999 | Loss: 0.0177 | Episodes: 100 | Win count: 29 | Win rate: 0.000 | time: 219.8 seconds\n",
      "Epoch: 030/999 | Loss: 0.0048 | Episodes: 22 | Win count: 30 | Win rate: 0.000 | time: 221.8 seconds\n",
      "Epoch: 031/999 | Loss: 0.0042 | Episodes: 83 | Win count: 31 | Win rate: 0.000 | time: 229.4 seconds\n",
      "Epoch: 032/999 | Loss: 0.0019 | Episodes: 32 | Win count: 32 | Win rate: 0.000 | time: 232.1 seconds\n",
      "Epoch: 033/999 | Loss: 0.0026 | Episodes: 92 | Win count: 33 | Win rate: 0.000 | time: 239.9 seconds\n",
      "Epoch: 034/999 | Loss: 0.0036 | Episodes: 12 | Win count: 34 | Win rate: 0.000 | time: 240.8 seconds\n",
      "Epoch: 035/999 | Loss: 0.0072 | Episodes: 1 | Win count: 35 | Win rate: 0.000 | time: 240.9 seconds\n",
      "Epoch: 036/999 | Loss: 0.0249 | Episodes: 58 | Win count: 36 | Win rate: 0.000 | time: 245.6 seconds\n",
      "Epoch: 037/999 | Loss: 0.0048 | Episodes: 4 | Win count: 37 | Win rate: 0.000 | time: 245.9 seconds\n",
      "Epoch: 038/999 | Loss: 0.0132 | Episodes: 3 | Win count: 38 | Win rate: 0.000 | time: 246.1 seconds\n",
      "Epoch: 039/999 | Loss: 0.0069 | Episodes: 19 | Win count: 39 | Win rate: 0.000 | time: 247.7 seconds\n",
      "Epoch: 040/999 | Loss: 0.0032 | Episodes: 5 | Win count: 40 | Win rate: 0.000 | time: 248.1 seconds\n",
      "Epoch: 041/999 | Loss: 0.0043 | Episodes: 9 | Win count: 41 | Win rate: 0.000 | time: 248.8 seconds\n",
      "Epoch: 042/999 | Loss: 0.0027 | Episodes: 11 | Win count: 42 | Win rate: 0.000 | time: 249.7 seconds\n",
      "Epoch: 043/999 | Loss: 0.0062 | Episodes: 45 | Win count: 43 | Win rate: 0.000 | time: 253.4 seconds\n",
      "Epoch: 044/999 | Loss: 0.0063 | Episodes: 39 | Win count: 44 | Win rate: 0.000 | time: 256.5 seconds\n",
      "Epoch: 045/999 | Loss: 0.0041 | Episodes: 16 | Win count: 45 | Win rate: 0.000 | time: 257.9 seconds\n",
      "Epoch: 046/999 | Loss: 0.0132 | Episodes: 31 | Win count: 46 | Win rate: 0.000 | time: 260.8 seconds\n",
      "Epoch: 047/999 | Loss: 0.0364 | Episodes: 6 | Win count: 47 | Win rate: 0.000 | time: 261.5 seconds\n",
      "Epoch: 048/999 | Loss: 0.0070 | Episodes: 3 | Win count: 48 | Win rate: 0.000 | time: 261.8 seconds\n",
      "Epoch: 049/999 | Loss: 0.0052 | Episodes: 21 | Win count: 49 | Win rate: 0.000 | time: 263.8 seconds\n",
      "Epoch: 050/999 | Loss: 0.0044 | Episodes: 26 | Win count: 50 | Win rate: 0.000 | time: 266.3 seconds\n",
      "Epoch: 051/999 | Loss: 0.0036 | Episodes: 20 | Win count: 51 | Win rate: 0.000 | time: 268.1 seconds\n",
      "Epoch: 052/999 | Loss: 0.0039 | Episodes: 10 | Win count: 52 | Win rate: 0.000 | time: 268.9 seconds\n",
      "Epoch: 053/999 | Loss: 0.0024 | Episodes: 44 | Win count: 53 | Win rate: 0.000 | time: 272.4 seconds\n",
      "Epoch: 054/999 | Loss: 0.0072 | Episodes: 23 | Win count: 54 | Win rate: 0.000 | time: 274.3 seconds\n",
      "Epoch: 055/999 | Loss: 0.0036 | Episodes: 24 | Win count: 55 | Win rate: 0.000 | time: 276.2 seconds\n",
      "Epoch: 056/999 | Loss: 0.0046 | Episodes: 12 | Win count: 56 | Win rate: 0.000 | time: 277.2 seconds\n",
      "Epoch: 057/999 | Loss: 0.0037 | Episodes: 8 | Win count: 57 | Win rate: 0.000 | time: 277.9 seconds\n",
      "Epoch: 058/999 | Loss: 0.0037 | Episodes: 21 | Win count: 58 | Win rate: 0.000 | time: 279.6 seconds\n",
      "Epoch: 059/999 | Loss: 0.0025 | Episodes: 17 | Win count: 59 | Win rate: 0.000 | time: 281.0 seconds\n",
      "Epoch: 060/999 | Loss: 0.0155 | Episodes: 3 | Win count: 60 | Win rate: 0.000 | time: 281.3 seconds\n",
      "Epoch: 061/999 | Loss: 0.0070 | Episodes: 12 | Win count: 61 | Win rate: 0.000 | time: 282.6 seconds\n",
      "Epoch: 062/999 | Loss: 0.0236 | Episodes: 14 | Win count: 62 | Win rate: 0.000 | time: 284.0 seconds\n",
      "Epoch: 063/999 | Loss: 0.0029 | Episodes: 54 | Win count: 63 | Win rate: 0.000 | time: 289.1 seconds\n",
      "Epoch: 064/999 | Loss: 0.0106 | Episodes: 14 | Win count: 64 | Win rate: 0.000 | time: 290.2 seconds\n",
      "Epoch: 065/999 | Loss: 0.0030 | Episodes: 85 | Win count: 65 | Win rate: 0.000 | time: 297.1 seconds\n",
      "Epoch: 066/999 | Loss: 0.0043 | Episodes: 31 | Win count: 66 | Win rate: 0.000 | time: 299.6 seconds\n",
      "Epoch: 067/999 | Loss: 0.0021 | Episodes: 22 | Win count: 67 | Win rate: 0.000 | time: 301.5 seconds\n",
      "Epoch: 068/999 | Loss: 0.0028 | Episodes: 11 | Win count: 68 | Win rate: 0.000 | time: 302.4 seconds\n",
      "Epoch: 069/999 | Loss: 0.0026 | Episodes: 44 | Win count: 69 | Win rate: 0.000 | time: 305.8 seconds\n",
      "Epoch: 070/999 | Loss: 0.0050 | Episodes: 67 | Win count: 70 | Win rate: 0.000 | time: 310.9 seconds\n",
      "Epoch: 071/999 | Loss: 0.0290 | Episodes: 4 | Win count: 71 | Win rate: 0.000 | time: 311.3 seconds\n",
      "Epoch: 072/999 | Loss: 0.0023 | Episodes: 21 | Win count: 72 | Win rate: 0.000 | time: 313.1 seconds\n",
      "Epoch: 073/999 | Loss: 0.0147 | Episodes: 66 | Win count: 73 | Win rate: 0.000 | time: 318.6 seconds\n",
      "Epoch: 074/999 | Loss: 0.0036 | Episodes: 45 | Win count: 74 | Win rate: 0.000 | time: 322.2 seconds\n",
      "Epoch: 075/999 | Loss: 0.0019 | Episodes: 32 | Win count: 75 | Win rate: 0.000 | time: 324.8 seconds\n",
      "Epoch: 076/999 | Loss: 0.0019 | Episodes: 15 | Win count: 76 | Win rate: 0.000 | time: 326.0 seconds\n",
      "Epoch: 077/999 | Loss: 0.0266 | Episodes: 47 | Win count: 77 | Win rate: 0.000 | time: 329.8 seconds\n",
      "Epoch: 078/999 | Loss: 0.0601 | Episodes: 12 | Win count: 78 | Win rate: 0.000 | time: 330.7 seconds\n",
      "Epoch: 079/999 | Loss: 0.0044 | Episodes: 99 | Win count: 79 | Win rate: 0.000 | time: 339.1 seconds\n",
      "Epoch: 080/999 | Loss: 0.0019 | Episodes: 30 | Win count: 80 | Win rate: 0.000 | time: 341.6 seconds\n",
      "Epoch: 081/999 | Loss: 0.0093 | Episodes: 108 | Win count: 81 | Win rate: 0.000 | time: 350.9 seconds\n",
      "Epoch: 082/999 | Loss: 0.0068 | Episodes: 15 | Win count: 82 | Win rate: 0.000 | time: 352.1 seconds\n",
      "Epoch: 083/999 | Loss: 0.0040 | Episodes: 16 | Win count: 83 | Win rate: 0.000 | time: 353.4 seconds\n",
      "Epoch: 084/999 | Loss: 0.0094 | Episodes: 61 | Win count: 84 | Win rate: 0.000 | time: 358.4 seconds\n",
      "Epoch: 085/999 | Loss: 0.0020 | Episodes: 3 | Win count: 85 | Win rate: 0.000 | time: 358.7 seconds\n",
      "Epoch: 086/999 | Loss: 0.0016 | Episodes: 33 | Win count: 86 | Win rate: 0.000 | time: 361.6 seconds\n",
      "Epoch: 087/999 | Loss: 0.0025 | Episodes: 20 | Win count: 87 | Win rate: 0.000 | time: 363.3 seconds\n",
      "Epoch: 088/999 | Loss: 0.0031 | Episodes: 48 | Win count: 88 | Win rate: 0.000 | time: 368.3 seconds\n",
      "Epoch: 089/999 | Loss: 0.0037 | Episodes: 10 | Win count: 89 | Win rate: 0.000 | time: 369.1 seconds\n",
      "Epoch: 090/999 | Loss: 0.0020 | Episodes: 29 | Win count: 90 | Win rate: 0.000 | time: 371.6 seconds\n",
      "Epoch: 091/999 | Loss: 0.0026 | Episodes: 78 | Win count: 91 | Win rate: 0.000 | time: 378.0 seconds\n",
      "Epoch: 092/999 | Loss: 0.0065 | Episodes: 53 | Win count: 92 | Win rate: 0.000 | time: 382.4 seconds\n",
      "Epoch: 093/999 | Loss: 0.0013 | Episodes: 11 | Win count: 93 | Win rate: 0.000 | time: 383.3 seconds\n",
      "Epoch: 094/999 | Loss: 0.0017 | Episodes: 30 | Win count: 94 | Win rate: 0.000 | time: 385.7 seconds\n",
      "Epoch: 095/999 | Loss: 0.0044 | Episodes: 26 | Win count: 95 | Win rate: 0.000 | time: 387.8 seconds\n",
      "Epoch: 096/999 | Loss: 0.0044 | Episodes: 15 | Win count: 96 | Win rate: 0.000 | time: 389.1 seconds\n",
      "Epoch: 097/999 | Loss: 0.0030 | Episodes: 2 | Win count: 97 | Win rate: 0.000 | time: 389.2 seconds\n",
      "Epoch: 098/999 | Loss: 0.0041 | Episodes: 14 | Win count: 98 | Win rate: 0.000 | time: 390.3 seconds\n",
      "Epoch: 099/999 | Loss: 0.0026 | Episodes: 4 | Win count: 99 | Win rate: 0.000 | time: 390.7 seconds\n",
      "Epoch: 100/999 | Loss: 0.0021 | Episodes: 35 | Win count: 100 | Win rate: 0.000 | time: 393.6 seconds\n",
      "Epoch: 101/999 | Loss: 0.0131 | Episodes: 22 | Win count: 101 | Win rate: 0.000 | time: 395.4 seconds\n",
      "Epoch: 102/999 | Loss: 0.0021 | Episodes: 19 | Win count: 102 | Win rate: 0.000 | time: 397.0 seconds\n",
      "Epoch: 103/999 | Loss: 0.0011 | Episodes: 31 | Win count: 103 | Win rate: 0.000 | time: 399.5 seconds\n",
      "Epoch: 104/999 | Loss: 0.0019 | Episodes: 17 | Win count: 104 | Win rate: 0.000 | time: 6.68 minutes\n",
      "Epoch: 105/999 | Loss: 0.0019 | Episodes: 13 | Win count: 105 | Win rate: 0.000 | time: 6.70 minutes\n",
      "Epoch: 106/999 | Loss: 0.0020 | Episodes: 3 | Win count: 106 | Win rate: 0.000 | time: 6.70 minutes\n",
      "Epoch: 107/999 | Loss: 0.0025 | Episodes: 52 | Win count: 107 | Win rate: 0.000 | time: 6.78 minutes\n",
      "Epoch: 108/999 | Loss: 0.0024 | Episodes: 46 | Win count: 108 | Win rate: 0.000 | time: 6.84 minutes\n",
      "Epoch: 109/999 | Loss: 0.0040 | Episodes: 35 | Win count: 109 | Win rate: 0.000 | time: 6.89 minutes\n",
      "Epoch: 110/999 | Loss: 0.0014 | Episodes: 63 | Win count: 110 | Win rate: 0.000 | time: 6.98 minutes\n",
      "Epoch: 111/999 | Loss: 0.0019 | Episodes: 14 | Win count: 111 | Win rate: 0.000 | time: 7.00 minutes\n",
      "Epoch: 112/999 | Loss: 0.0045 | Episodes: 3 | Win count: 112 | Win rate: 0.000 | time: 7.00 minutes\n",
      "Epoch: 113/999 | Loss: 0.0029 | Episodes: 59 | Win count: 113 | Win rate: 0.000 | time: 7.09 minutes\n",
      "Epoch: 114/999 | Loss: 0.0018 | Episodes: 8 | Win count: 114 | Win rate: 0.000 | time: 7.10 minutes\n",
      "Epoch: 115/999 | Loss: 0.0040 | Episodes: 17 | Win count: 115 | Win rate: 0.000 | time: 7.12 minutes\n",
      "Epoch: 116/999 | Loss: 0.0019 | Episodes: 32 | Win count: 116 | Win rate: 0.000 | time: 7.17 minutes\n",
      "Epoch: 117/999 | Loss: 0.0009 | Episodes: 17 | Win count: 117 | Win rate: 0.000 | time: 7.19 minutes\n",
      "Epoch: 118/999 | Loss: 0.0044 | Episodes: 3 | Win count: 118 | Win rate: 0.000 | time: 7.20 minutes\n",
      "Epoch: 119/999 | Loss: 0.0039 | Episodes: 9 | Win count: 119 | Win rate: 0.000 | time: 7.21 minutes\n",
      "Epoch: 120/999 | Loss: 0.0016 | Episodes: 12 | Win count: 120 | Win rate: 0.000 | time: 7.23 minutes\n",
      "Epoch: 121/999 | Loss: 0.0013 | Episodes: 13 | Win count: 121 | Win rate: 0.000 | time: 7.24 minutes\n",
      "Epoch: 122/999 | Loss: 0.0070 | Episodes: 2 | Win count: 122 | Win rate: 0.000 | time: 7.25 minutes\n",
      "Epoch: 123/999 | Loss: 0.0099 | Episodes: 32 | Win count: 123 | Win rate: 0.000 | time: 7.29 minutes\n",
      "Epoch: 124/999 | Loss: 0.0034 | Episodes: 4 | Win count: 124 | Win rate: 0.000 | time: 7.30 minutes\n",
      "Epoch: 125/999 | Loss: 0.0015 | Episodes: 11 | Win count: 125 | Win rate: 0.000 | time: 7.31 minutes\n",
      "Epoch: 126/999 | Loss: 0.0039 | Episodes: 7 | Win count: 126 | Win rate: 0.000 | time: 7.32 minutes\n",
      "Epoch: 127/999 | Loss: 0.0006 | Episodes: 50 | Win count: 127 | Win rate: 0.000 | time: 7.39 minutes\n",
      "Epoch: 128/999 | Loss: 0.0010 | Episodes: 31 | Win count: 128 | Win rate: 0.000 | time: 7.44 minutes\n",
      "Epoch: 129/999 | Loss: 0.0021 | Episodes: 38 | Win count: 129 | Win rate: 0.000 | time: 7.49 minutes\n",
      "Epoch: 130/999 | Loss: 0.0020 | Episodes: 19 | Win count: 130 | Win rate: 0.000 | time: 7.51 minutes\n",
      "Epoch: 131/999 | Loss: 0.0016 | Episodes: 31 | Win count: 131 | Win rate: 0.000 | time: 7.56 minutes\n",
      "Epoch: 132/999 | Loss: 0.0004 | Episodes: 4 | Win count: 132 | Win rate: 0.000 | time: 7.56 minutes\n",
      "Epoch: 133/999 | Loss: 0.0013 | Episodes: 33 | Win count: 133 | Win rate: 0.000 | time: 7.60 minutes\n",
      "Epoch: 134/999 | Loss: 0.0006 | Episodes: 64 | Win count: 134 | Win rate: 0.000 | time: 7.69 minutes\n",
      "Epoch: 135/999 | Loss: 0.0038 | Episodes: 14 | Win count: 135 | Win rate: 0.000 | time: 7.71 minutes\n",
      "Epoch: 136/999 | Loss: 0.0121 | Episodes: 2 | Win count: 136 | Win rate: 0.000 | time: 7.71 minutes\n",
      "Epoch: 137/999 | Loss: 0.0014 | Episodes: 8 | Win count: 137 | Win rate: 0.000 | time: 7.72 minutes\n",
      "Epoch: 138/999 | Loss: 0.0037 | Episodes: 32 | Win count: 138 | Win rate: 0.000 | time: 7.77 minutes\n",
      "Epoch: 139/999 | Loss: 0.0035 | Episodes: 46 | Win count: 139 | Win rate: 0.000 | time: 7.83 minutes\n",
      "Epoch: 140/999 | Loss: 0.0107 | Episodes: 17 | Win count: 140 | Win rate: 0.000 | time: 7.85 minutes\n",
      "Epoch: 141/999 | Loss: 0.0027 | Episodes: 5 | Win count: 141 | Win rate: 0.000 | time: 7.86 minutes\n",
      "Epoch: 142/999 | Loss: 0.0014 | Episodes: 11 | Win count: 142 | Win rate: 0.000 | time: 7.87 minutes\n",
      "Epoch: 143/999 | Loss: 0.0030 | Episodes: 8 | Win count: 143 | Win rate: 0.000 | time: 7.88 minutes\n",
      "Epoch: 144/999 | Loss: 0.0007 | Episodes: 45 | Win count: 144 | Win rate: 0.000 | time: 7.94 minutes\n",
      "Epoch: 145/999 | Loss: 0.0014 | Episodes: 61 | Win count: 145 | Win rate: 0.000 | time: 8.03 minutes\n",
      "Epoch: 146/999 | Loss: 0.0012 | Episodes: 6 | Win count: 146 | Win rate: 0.000 | time: 8.03 minutes\n",
      "Epoch: 147/999 | Loss: 0.0015 | Episodes: 8 | Win count: 147 | Win rate: 0.000 | time: 8.05 minutes\n",
      "Epoch: 148/999 | Loss: 0.0017 | Episodes: 7 | Win count: 148 | Win rate: 0.000 | time: 8.06 minutes\n",
      "Epoch: 149/999 | Loss: 0.0004 | Episodes: 4 | Win count: 149 | Win rate: 0.000 | time: 8.06 minutes\n",
      "Epoch: 150/999 | Loss: 0.0025 | Episodes: 38 | Win count: 150 | Win rate: 0.000 | time: 8.11 minutes\n",
      "Epoch: 151/999 | Loss: 0.0010 | Episodes: 24 | Win count: 151 | Win rate: 0.000 | time: 8.14 minutes\n",
      "Epoch: 152/999 | Loss: 0.0020 | Episodes: 24 | Win count: 152 | Win rate: 0.000 | time: 8.18 minutes\n",
      "Epoch: 153/999 | Loss: 0.0030 | Episodes: 5 | Win count: 153 | Win rate: 0.000 | time: 8.18 minutes\n",
      "Epoch: 154/999 | Loss: 0.0025 | Episodes: 4 | Win count: 154 | Win rate: 0.000 | time: 8.19 minutes\n",
      "Epoch: 155/999 | Loss: 0.0030 | Episodes: 20 | Win count: 155 | Win rate: 0.000 | time: 8.21 minutes\n",
      "Epoch: 156/999 | Loss: 0.0097 | Episodes: 6 | Win count: 156 | Win rate: 0.000 | time: 8.22 minutes\n",
      "Epoch: 157/999 | Loss: 0.0017 | Episodes: 13 | Win count: 157 | Win rate: 0.000 | time: 8.24 minutes\n",
      "Epoch: 158/999 | Loss: 0.0018 | Episodes: 2 | Win count: 158 | Win rate: 0.000 | time: 8.24 minutes\n",
      "Epoch: 159/999 | Loss: 0.0014 | Episodes: 28 | Win count: 159 | Win rate: 0.000 | time: 8.28 minutes\n",
      "Epoch: 160/999 | Loss: 0.0016 | Episodes: 21 | Win count: 160 | Win rate: 0.000 | time: 8.31 minutes\n",
      "Epoch: 161/999 | Loss: 0.0010 | Episodes: 20 | Win count: 161 | Win rate: 0.000 | time: 8.34 minutes\n",
      "Epoch: 162/999 | Loss: 0.0010 | Episodes: 1 | Win count: 162 | Win rate: 0.000 | time: 8.34 minutes\n",
      "Epoch: 163/999 | Loss: 0.0010 | Episodes: 11 | Win count: 163 | Win rate: 0.000 | time: 8.35 minutes\n",
      "Epoch: 164/999 | Loss: 0.0002 | Episodes: 8 | Win count: 164 | Win rate: 0.000 | time: 8.37 minutes\n",
      "Epoch: 165/999 | Loss: 0.0016 | Episodes: 28 | Win count: 165 | Win rate: 0.000 | time: 8.40 minutes\n",
      "Epoch: 166/999 | Loss: 0.0034 | Episodes: 25 | Win count: 166 | Win rate: 0.000 | time: 8.44 minutes\n",
      "Epoch: 167/999 | Loss: 0.0012 | Episodes: 33 | Win count: 167 | Win rate: 0.000 | time: 8.48 minutes\n",
      "Epoch: 168/999 | Loss: 0.0012 | Episodes: 57 | Win count: 168 | Win rate: 0.000 | time: 8.55 minutes\n",
      "Epoch: 169/999 | Loss: 0.0024 | Episodes: 18 | Win count: 169 | Win rate: 0.000 | time: 8.58 minutes\n",
      "Epoch: 170/999 | Loss: 0.0013 | Episodes: 17 | Win count: 170 | Win rate: 0.000 | time: 8.60 minutes\n",
      "Epoch: 171/999 | Loss: 0.0018 | Episodes: 27 | Win count: 171 | Win rate: 0.000 | time: 8.64 minutes\n",
      "Epoch: 172/999 | Loss: 0.0029 | Episodes: 17 | Win count: 172 | Win rate: 0.000 | time: 8.66 minutes\n",
      "Epoch: 173/999 | Loss: 0.0021 | Episodes: 21 | Win count: 173 | Win rate: 0.000 | time: 8.68 minutes\n",
      "Epoch: 174/999 | Loss: 0.0039 | Episodes: 28 | Win count: 174 | Win rate: 0.000 | time: 8.72 minutes\n",
      "Epoch: 175/999 | Loss: 0.0010 | Episodes: 16 | Win count: 175 | Win rate: 0.000 | time: 8.74 minutes\n",
      "Epoch: 176/999 | Loss: 0.0024 | Episodes: 35 | Win count: 176 | Win rate: 0.000 | time: 8.79 minutes\n",
      "Epoch: 177/999 | Loss: 0.0009 | Episodes: 44 | Win count: 177 | Win rate: 0.000 | time: 8.84 minutes\n",
      "Epoch: 178/999 | Loss: 0.0006 | Episodes: 22 | Win count: 178 | Win rate: 0.000 | time: 8.87 minutes\n",
      "Epoch: 179/999 | Loss: 0.0018 | Episodes: 11 | Win count: 179 | Win rate: 0.000 | time: 8.89 minutes\n",
      "Epoch: 180/999 | Loss: 0.0013 | Episodes: 17 | Win count: 180 | Win rate: 0.000 | time: 8.91 minutes\n",
      "Epoch: 181/999 | Loss: 0.0007 | Episodes: 24 | Win count: 181 | Win rate: 0.000 | time: 8.94 minutes\n",
      "Epoch: 182/999 | Loss: 0.0046 | Episodes: 17 | Win count: 182 | Win rate: 0.000 | time: 8.96 minutes\n",
      "Epoch: 183/999 | Loss: 0.0012 | Episodes: 13 | Win count: 183 | Win rate: 0.000 | time: 8.98 minutes\n",
      "Epoch: 184/999 | Loss: 0.0007 | Episodes: 9 | Win count: 184 | Win rate: 0.000 | time: 9.00 minutes\n",
      "Epoch: 185/999 | Loss: 0.0006 | Episodes: 30 | Win count: 185 | Win rate: 0.000 | time: 9.04 minutes\n",
      "Epoch: 186/999 | Loss: 0.0016 | Episodes: 44 | Win count: 186 | Win rate: 0.000 | time: 9.10 minutes\n",
      "Epoch: 187/999 | Loss: 0.0020 | Episodes: 21 | Win count: 187 | Win rate: 0.000 | time: 9.13 minutes\n",
      "Epoch: 188/999 | Loss: 0.0015 | Episodes: 6 | Win count: 188 | Win rate: 0.000 | time: 9.15 minutes\n",
      "Epoch: 189/999 | Loss: 0.0020 | Episodes: 24 | Win count: 189 | Win rate: 0.000 | time: 9.20 minutes\n",
      "Epoch: 190/999 | Loss: 0.0010 | Episodes: 5 | Win count: 190 | Win rate: 0.000 | time: 9.20 minutes\n",
      "Epoch: 191/999 | Loss: 0.0012 | Episodes: 50 | Win count: 191 | Win rate: 0.000 | time: 9.27 minutes\n",
      "Epoch: 192/999 | Loss: 0.0009 | Episodes: 11 | Win count: 192 | Win rate: 0.000 | time: 9.29 minutes\n",
      "Epoch: 193/999 | Loss: 0.0018 | Episodes: 10 | Win count: 193 | Win rate: 0.000 | time: 9.30 minutes\n",
      "Epoch: 194/999 | Loss: 0.0013 | Episodes: 21 | Win count: 194 | Win rate: 0.000 | time: 9.33 minutes\n",
      "Epoch: 195/999 | Loss: 0.0017 | Episodes: 13 | Win count: 195 | Win rate: 0.000 | time: 9.35 minutes\n",
      "Epoch: 196/999 | Loss: 0.0012 | Episodes: 27 | Win count: 196 | Win rate: 0.000 | time: 9.40 minutes\n",
      "Epoch: 197/999 | Loss: 0.0007 | Episodes: 24 | Win count: 197 | Win rate: 0.000 | time: 9.44 minutes\n",
      "Epoch: 198/999 | Loss: 0.0006 | Episodes: 10 | Win count: 198 | Win rate: 0.000 | time: 9.45 minutes\n",
      "Epoch: 199/999 | Loss: 0.0005 | Episodes: 10 | Win count: 199 | Win rate: 0.000 | time: 9.46 minutes\n",
      "Epoch: 200/999 | Loss: 0.0023 | Episodes: 25 | Win count: 200 | Win rate: 0.995 | time: 9.50 minutes\n",
      "Epoch: 201/999 | Loss: 0.0112 | Episodes: 21 | Win count: 201 | Win rate: 0.995 | time: 9.52 minutes\n",
      "Epoch: 202/999 | Loss: 0.0012 | Episodes: 27 | Win count: 202 | Win rate: 0.995 | time: 9.56 minutes\n",
      "Epoch: 203/999 | Loss: 0.0019 | Episodes: 18 | Win count: 203 | Win rate: 0.995 | time: 9.58 minutes\n",
      "Epoch: 204/999 | Loss: 0.0017 | Episodes: 24 | Win count: 204 | Win rate: 0.995 | time: 9.62 minutes\n",
      "Epoch: 205/999 | Loss: 0.0031 | Episodes: 15 | Win count: 205 | Win rate: 0.995 | time: 9.64 minutes\n",
      "Epoch: 206/999 | Loss: 0.0012 | Episodes: 5 | Win count: 206 | Win rate: 0.995 | time: 9.64 minutes\n",
      "Epoch: 207/999 | Loss: 0.0009 | Episodes: 13 | Win count: 207 | Win rate: 0.995 | time: 9.66 minutes\n",
      "Epoch: 208/999 | Loss: 0.0009 | Episodes: 2 | Win count: 208 | Win rate: 0.995 | time: 9.66 minutes\n",
      "Epoch: 209/999 | Loss: 0.0020 | Episodes: 46 | Win count: 209 | Win rate: 0.995 | time: 9.72 minutes\n",
      "Epoch: 210/999 | Loss: 0.0299 | Episodes: 20 | Win count: 210 | Win rate: 0.995 | time: 9.75 minutes\n",
      "Epoch: 211/999 | Loss: 0.0006 | Episodes: 67 | Win count: 211 | Win rate: 0.995 | time: 9.84 minutes\n",
      "Epoch: 212/999 | Loss: 0.2645 | Episodes: 56 | Win count: 212 | Win rate: 0.995 | time: 9.91 minutes\n",
      "Epoch: 213/999 | Loss: 0.0017 | Episodes: 100 | Win count: 213 | Win rate: 0.995 | time: 10.04 minutes\n",
      "Epoch: 214/999 | Loss: 0.0047 | Episodes: 31 | Win count: 214 | Win rate: 0.995 | time: 10.08 minutes\n",
      "Epoch: 215/999 | Loss: 0.0038 | Episodes: 14 | Win count: 215 | Win rate: 0.995 | time: 10.10 minutes\n",
      "Epoch: 216/999 | Loss: 0.0007 | Episodes: 51 | Win count: 216 | Win rate: 0.995 | time: 10.16 minutes\n",
      "Epoch: 217/999 | Loss: 0.0008 | Episodes: 21 | Win count: 217 | Win rate: 0.995 | time: 10.19 minutes\n",
      "Epoch: 218/999 | Loss: 0.0011 | Episodes: 1 | Win count: 218 | Win rate: 0.995 | time: 10.19 minutes\n",
      "Epoch: 219/999 | Loss: 0.0012 | Episodes: 29 | Win count: 219 | Win rate: 0.995 | time: 10.23 minutes\n",
      "Epoch: 220/999 | Loss: 0.0015 | Episodes: 43 | Win count: 220 | Win rate: 0.995 | time: 10.29 minutes\n",
      "Epoch: 221/999 | Loss: 0.0005 | Episodes: 27 | Win count: 221 | Win rate: 0.995 | time: 10.33 minutes\n",
      "Epoch: 222/999 | Loss: 0.0003 | Episodes: 3 | Win count: 222 | Win rate: 1.000 | time: 10.33 minutes\n",
      "Epoch: 223/999 | Loss: 0.0011 | Episodes: 45 | Win count: 223 | Win rate: 1.000 | time: 10.40 minutes\n",
      "Epoch: 224/999 | Loss: 0.0006 | Episodes: 62 | Win count: 224 | Win rate: 1.000 | time: 10.48 minutes\n",
      "Epoch: 225/999 | Loss: 0.0008 | Episodes: 29 | Win count: 225 | Win rate: 1.000 | time: 10.53 minutes\n",
      "Epoch: 226/999 | Loss: 0.0013 | Episodes: 31 | Win count: 226 | Win rate: 1.000 | time: 10.57 minutes\n",
      "Epoch: 227/999 | Loss: 0.0037 | Episodes: 28 | Win count: 227 | Win rate: 1.000 | time: 10.62 minutes\n",
      "Epoch: 228/999 | Loss: 0.0040 | Episodes: 17 | Win count: 228 | Win rate: 1.000 | time: 10.65 minutes\n",
      "Reached 100% win rate at epoch: 228\n",
      "\n",
      "\n",
      "files: model.h5, model.json\n",
      "n_epoch: 228, max_mem: 3200, data: 32, time: 10.67 minutes\n"
     ]
    },
    {
     "data": {
      "text/plain": [
       "640.355753"
      ]
     },
     "execution_count": 4,
     "metadata": {},
     "output_type": "execute_result"
    }
   ],
   "source": [
    "model = utils.build_model(maze, num_actions=num_actions)\n",
    "\n",
    "# default settings:\n",
    "# n_epoch=15'000 | max_memory=1000 | data_size=50\n",
    "utils.qtrain(model=model, maze=maze, n_epoch=1000, max_memory=8*maze.size, data_size=32, rat_mark=rat_mark, epsilon=epsilon)"
   ]
  },
  {
   "cell_type": "code",
   "execution_count": 5,
   "metadata": {},
   "outputs": [
    {
     "data": {
      "text/plain": [
       "True"
      ]
     },
     "execution_count": 5,
     "metadata": {},
     "output_type": "execute_result"
    }
   ],
   "source": [
    "# Does the model win for all possible free-cells?\n",
    "#    (this check is being done inside train-function)\n",
    "utils.completion_check(model=model, qmaze=utils.Qmaze(maze))"
   ]
  },
  {
   "cell_type": "code",
   "execution_count": 6,
   "metadata": {},
   "outputs": [
    {
     "data": {
      "text/plain": [
       "True"
      ]
     },
     "execution_count": 6,
     "metadata": {},
     "output_type": "execute_result"
    },
    {
     "data": {
      "image/png": "[encoded data removed]",
      "text/plain": [
       "<matplotlib.figure.Figure at 0x2182ecd78d0>"
      ]
     },
     "metadata": {},
     "output_type": "display_data"
    }
   ],
   "source": [
    "utils.play_game_and_plot(model=model, qmaze=utils.Qmaze(maze), rat_cell=(0,0), folder_name_pngs=folder_name_pngs)"
   ]
  },
  {
   "cell_type": "code",
   "execution_count": 7,
   "metadata": {},
   "outputs": [],
   "source": [
    "filenames_pngs = os.listdir(folder_name_pngs)\n",
    "utils.create_gif(folder_name_pngs, folder_name_gif, filenames_pngs)"
   ]
  },
  {
   "cell_type": "markdown",
   "metadata": {},
   "source": [
    "Finished"
   ]
  }
 ],
 "metadata": {
  "kernelspec": {
   "display_name": "Python 3",
   "language": "python",
   "name": "python3"
  },
  "language_info": {
   "codemirror_mode": {
    "name": "ipython",
    "version": 3
   },
   "file_extension": ".py",
   "mimetype": "text/x-python",
   "name": "python",
   "nbconvert_exporter": "python",
   "pygments_lexer": "ipython3",
   "version": "3.6.6"
  }
 },
 "nbformat": 4,
 "nbformat_minor": 2
}
