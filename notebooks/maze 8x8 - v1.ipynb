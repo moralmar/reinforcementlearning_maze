{
 "cells": [
  {
   "cell_type": "markdown",
   "metadata": {},
   "source": [
    "# Maze 8x8 - v1"
   ]
  },
  {
   "cell_type": "code",
   "execution_count": 1,
   "metadata": {},
   "outputs": [
    {
     "name": "stderr",
     "output_type": "stream",
     "text": [
      "Using TensorFlow backend.\n"
     ]
    }
   ],
   "source": [
    "import utils_maze as utils\n",
    "\n",
    "import numpy as np\n",
    "import datetime\n",
    "import matplotlib.pyplot as plt\n",
    "# import imageio\n",
    "import os\n",
    "\n",
    "%matplotlib inline"
   ]
  },
  {
   "cell_type": "markdown",
   "metadata": {},
   "source": [
    "![SegmentLocal](20190602_2102_gif_8x8v1/seq_movie.gif \"segment\")"
   ]
  },
  {
   "cell_type": "code",
   "execution_count": 2,
   "metadata": {},
   "outputs": [],
   "source": [
    "rat_mark = 0.5      # The current rat cell will be painteg by gray 0.5\n",
    "epsilon = 0.1       # Exploration factor\n",
    "\n",
    "LEFT = 0\n",
    "UP = 1\n",
    "RIGHT = 2\n",
    "DOWN = 3\n",
    "\n",
    "# Actions dictionary\n",
    "actions_dict = {\n",
    "    LEFT: 'left',\n",
    "    UP: 'up',\n",
    "    RIGHT: 'right',\n",
    "    DOWN: 'down',\n",
    "}\n",
    "num_actions = len(actions_dict)\n",
    "\n",
    "\n",
    "\n",
    "\n",
    "maze =  np.array([\n",
    "    [ 1.,  0.,  1.,  1.,  1.,  1.,  1.,  1.],\n",
    "    [ 1.,  0.,  1.,  1.,  1.,  0.,  1.,  1.],\n",
    "    [ 1.,  1.,  1.,  1.,  0.,  1.,  0.,  1.],\n",
    "    [ 1.,  1.,  1.,  0.,  1.,  1.,  1.,  1.],\n",
    "    [ 1.,  1.,  0.,  1.,  1.,  1.,  1.,  1.],\n",
    "    [ 1.,  1.,  1.,  0.,  1.,  0.,  0.,  0.],\n",
    "    [ 1.,  1.,  1.,  0.,  1.,  1.,  1.,  1.],\n",
    "    [ 1.,  1.,  1.,  1.,  0.,  1.,  1.,  1.]\n",
    "])"
   ]
  },
  {
   "cell_type": "code",
   "execution_count": 3,
   "metadata": {},
   "outputs": [
    {
     "name": "stdout",
     "output_type": "stream",
     "text": [
      "Successfully created the directory 20190602_2102_gif \n",
      "Successfully created the directory 20190602_2102_gif/pngs \n"
     ]
    }
   ],
   "source": [
    "now_str = datetime.datetime.now().strftime('%Y%m%d_%H%M')\n",
    "folder_name_gif = now_str + '_gif'\n",
    "folder_name_pngs = folder_name_gif + '/pngs'\n",
    "\n",
    "utils.create_folder(folder_name_gif)\n",
    "utils.create_folder(folder_name_pngs)"
   ]
  },
  {
   "cell_type": "code",
   "execution_count": 4,
   "metadata": {},
   "outputs": [
    {
     "name": "stdout",
     "output_type": "stream",
     "text": [
      "number of epochs=  1000\n",
      "Epoch: 000/999 | Loss: 0.0014 | Episodes: 150 | Win count: 0 | Win rate: 0.000 | time: 4.7 seconds\n",
      "Epoch: 001/999 | Loss: 0.0741 | Episodes: 141 | Win count: 0 | Win rate: 0.000 | time: 8.5 seconds\n",
      "Epoch: 002/999 | Loss: 0.0013 | Episodes: 147 | Win count: 0 | Win rate: 0.000 | time: 12.6 seconds\n",
      "Epoch: 003/999 | Loss: 0.0028 | Episodes: 139 | Win count: 0 | Win rate: 0.000 | time: 16.4 seconds\n",
      "Epoch: 004/999 | Loss: 0.0016 | Episodes: 138 | Win count: 0 | Win rate: 0.000 | time: 20.4 seconds\n",
      "Epoch: 005/999 | Loss: 0.0015 | Episodes: 144 | Win count: 0 | Win rate: 0.000 | time: 24.5 seconds\n",
      "Epoch: 006/999 | Loss: 0.0079 | Episodes: 141 | Win count: 0 | Win rate: 0.000 | time: 28.4 seconds\n",
      "Epoch: 007/999 | Loss: 0.0471 | Episodes: 142 | Win count: 0 | Win rate: 0.000 | time: 32.3 seconds\n",
      "Epoch: 008/999 | Loss: 0.0018 | Episodes: 137 | Win count: 0 | Win rate: 0.000 | time: 36.0 seconds\n",
      "Epoch: 009/999 | Loss: 0.0515 | Episodes: 137 | Win count: 0 | Win rate: 0.000 | time: 39.8 seconds\n",
      "Epoch: 010/999 | Loss: 0.0011 | Episodes: 141 | Win count: 0 | Win rate: 0.000 | time: 43.7 seconds\n",
      "Epoch: 011/999 | Loss: 0.0032 | Episodes: 143 | Win count: 0 | Win rate: 0.000 | time: 47.6 seconds\n",
      "Epoch: 012/999 | Loss: 0.0029 | Episodes: 143 | Win count: 0 | Win rate: 0.000 | time: 51.5 seconds\n",
      "Epoch: 013/999 | Loss: 0.0008 | Episodes: 141 | Win count: 0 | Win rate: 0.000 | time: 55.4 seconds\n",
      "Epoch: 014/999 | Loss: 0.0010 | Episodes: 145 | Win count: 0 | Win rate: 0.000 | time: 59.3 seconds\n",
      "Epoch: 015/999 | Loss: 0.0052 | Episodes: 147 | Win count: 0 | Win rate: 0.000 | time: 63.5 seconds\n",
      "Epoch: 016/999 | Loss: 0.0020 | Episodes: 142 | Win count: 0 | Win rate: 0.000 | time: 67.6 seconds\n",
      "Epoch: 017/999 | Loss: 0.0020 | Episodes: 145 | Win count: 0 | Win rate: 0.000 | time: 71.6 seconds\n",
      "Epoch: 018/999 | Loss: 0.0016 | Episodes: 139 | Win count: 0 | Win rate: 0.000 | time: 75.3 seconds\n",
      "Epoch: 019/999 | Loss: 0.0014 | Episodes: 137 | Win count: 0 | Win rate: 0.000 | time: 79.0 seconds\n",
      "Epoch: 020/999 | Loss: 0.0022 | Episodes: 150 | Win count: 0 | Win rate: 0.000 | time: 83.1 seconds\n",
      "Epoch: 021/999 | Loss: 0.1172 | Episodes: 138 | Win count: 0 | Win rate: 0.000 | time: 87.1 seconds\n",
      "Epoch: 022/999 | Loss: 0.0015 | Episodes: 123 | Win count: 1 | Win rate: 0.000 | time: 90.7 seconds\n",
      "Epoch: 023/999 | Loss: 0.0022 | Episodes: 145 | Win count: 1 | Win rate: 0.000 | time: 94.8 seconds\n",
      "Epoch: 024/999 | Loss: 0.0021 | Episodes: 141 | Win count: 1 | Win rate: 0.000 | time: 98.7 seconds\n",
      "Epoch: 025/999 | Loss: 0.0060 | Episodes: 139 | Win count: 1 | Win rate: 0.000 | time: 103.2 seconds\n",
      "Epoch: 026/999 | Loss: 0.0237 | Episodes: 19 | Win count: 2 | Win rate: 0.000 | time: 103.7 seconds\n",
      "Epoch: 027/999 | Loss: 0.0324 | Episodes: 141 | Win count: 2 | Win rate: 0.000 | time: 107.7 seconds\n",
      "Epoch: 028/999 | Loss: 0.0021 | Episodes: 146 | Win count: 2 | Win rate: 0.000 | time: 111.7 seconds\n",
      "Epoch: 029/999 | Loss: 0.0321 | Episodes: 5 | Win count: 3 | Win rate: 0.000 | time: 111.9 seconds\n",
      "Epoch: 030/999 | Loss: 0.0044 | Episodes: 4 | Win count: 4 | Win rate: 0.000 | time: 112.0 seconds\n",
      "Epoch: 031/999 | Loss: 0.0237 | Episodes: 93 | Win count: 5 | Win rate: 0.000 | time: 114.6 seconds\n",
      "Epoch: 032/999 | Loss: 0.0023 | Episodes: 141 | Win count: 5 | Win rate: 0.156 | time: 118.5 seconds\n",
      "Epoch: 033/999 | Loss: 0.0042 | Episodes: 136 | Win count: 5 | Win rate: 0.156 | time: 122.2 seconds\n",
      "Epoch: 034/999 | Loss: 0.0027 | Episodes: 144 | Win count: 5 | Win rate: 0.156 | time: 126.2 seconds\n",
      "Epoch: 035/999 | Loss: 0.0011 | Episodes: 137 | Win count: 5 | Win rate: 0.156 | time: 129.9 seconds\n",
      "Epoch: 036/999 | Loss: 0.0138 | Episodes: 143 | Win count: 5 | Win rate: 0.156 | time: 133.8 seconds\n",
      "Epoch: 037/999 | Loss: 0.0012 | Episodes: 143 | Win count: 5 | Win rate: 0.156 | time: 137.8 seconds\n",
      "Epoch: 038/999 | Loss: 0.0482 | Episodes: 6 | Win count: 6 | Win rate: 0.188 | time: 137.9 seconds\n",
      "Epoch: 039/999 | Loss: 0.0037 | Episodes: 145 | Win count: 6 | Win rate: 0.188 | time: 141.9 seconds\n",
      "Epoch: 040/999 | Loss: 0.0059 | Episodes: 58 | Win count: 7 | Win rate: 0.219 | time: 143.5 seconds\n",
      "Epoch: 041/999 | Loss: 0.0034 | Episodes: 141 | Win count: 7 | Win rate: 0.219 | time: 147.4 seconds\n",
      "Epoch: 042/999 | Loss: 0.0013 | Episodes: 11 | Win count: 8 | Win rate: 0.250 | time: 147.7 seconds\n",
      "Epoch: 043/999 | Loss: 0.0084 | Episodes: 137 | Win count: 8 | Win rate: 0.250 | time: 151.4 seconds\n",
      "Epoch: 044/999 | Loss: 0.0043 | Episodes: 6 | Win count: 9 | Win rate: 0.281 | time: 151.6 seconds\n",
      "Epoch: 045/999 | Loss: 0.0389 | Episodes: 144 | Win count: 9 | Win rate: 0.281 | time: 155.5 seconds\n",
      "Epoch: 046/999 | Loss: 0.0282 | Episodes: 2 | Win count: 10 | Win rate: 0.312 | time: 155.5 seconds\n",
      "Epoch: 047/999 | Loss: 0.0046 | Episodes: 14 | Win count: 11 | Win rate: 0.344 | time: 155.9 seconds\n",
      "Epoch: 048/999 | Loss: 0.0053 | Episodes: 8 | Win count: 12 | Win rate: 0.375 | time: 156.1 seconds\n",
      "Epoch: 049/999 | Loss: 0.0012 | Episodes: 137 | Win count: 12 | Win rate: 0.375 | time: 159.9 seconds\n",
      "Epoch: 050/999 | Loss: 0.0028 | Episodes: 143 | Win count: 12 | Win rate: 0.375 | time: 163.7 seconds\n",
      "Epoch: 051/999 | Loss: 0.0015 | Episodes: 144 | Win count: 12 | Win rate: 0.375 | time: 167.7 seconds\n",
      "Epoch: 052/999 | Loss: 0.0605 | Episodes: 5 | Win count: 13 | Win rate: 0.406 | time: 167.8 seconds\n",
      "Epoch: 053/999 | Loss: 0.0018 | Episodes: 137 | Win count: 13 | Win rate: 0.406 | time: 171.6 seconds\n",
      "Epoch: 054/999 | Loss: 0.0627 | Episodes: 8 | Win count: 14 | Win rate: 0.406 | time: 171.8 seconds\n",
      "Epoch: 055/999 | Loss: 0.0018 | Episodes: 143 | Win count: 14 | Win rate: 0.406 | time: 175.7 seconds\n",
      "Epoch: 056/999 | Loss: 0.0016 | Episodes: 137 | Win count: 14 | Win rate: 0.406 | time: 179.4 seconds\n",
      "Epoch: 057/999 | Loss: 0.0027 | Episodes: 16 | Win count: 15 | Win rate: 0.438 | time: 179.8 seconds\n",
      "Epoch: 058/999 | Loss: 0.0052 | Episodes: 32 | Win count: 16 | Win rate: 0.438 | time: 180.7 seconds\n",
      "Epoch: 059/999 | Loss: 0.0107 | Episodes: 139 | Win count: 16 | Win rate: 0.438 | time: 184.5 seconds\n",
      "Epoch: 060/999 | Loss: 0.0065 | Episodes: 140 | Win count: 16 | Win rate: 0.438 | time: 188.3 seconds\n",
      "Epoch: 061/999 | Loss: 0.0061 | Episodes: 146 | Win count: 16 | Win rate: 0.406 | time: 192.3 seconds\n",
      "Epoch: 062/999 | Loss: 0.0403 | Episodes: 11 | Win count: 17 | Win rate: 0.406 | time: 192.6 seconds\n",
      "Epoch: 063/999 | Loss: 0.0058 | Episodes: 13 | Win count: 18 | Win rate: 0.406 | time: 192.9 seconds\n",
      "Epoch: 064/999 | Loss: 0.0019 | Episodes: 137 | Win count: 18 | Win rate: 0.406 | time: 196.7 seconds\n",
      "Epoch: 065/999 | Loss: 0.0015 | Episodes: 17 | Win count: 19 | Win rate: 0.438 | time: 197.1 seconds\n",
      "Epoch: 066/999 | Loss: 0.0135 | Episodes: 4 | Win count: 20 | Win rate: 0.469 | time: 197.2 seconds\n",
      "Epoch: 067/999 | Loss: 0.0738 | Episodes: 10 | Win count: 21 | Win rate: 0.500 | time: 197.5 seconds\n",
      "Epoch: 068/999 | Loss: 0.0965 | Episodes: 9 | Win count: 22 | Win rate: 0.531 | time: 197.8 seconds\n",
      "Epoch: 069/999 | Loss: 0.0029 | Episodes: 9 | Win count: 23 | Win rate: 0.562 | time: 198.0 seconds\n",
      "Epoch: 070/999 | Loss: 0.0060 | Episodes: 145 | Win count: 23 | Win rate: 0.531 | time: 202.0 seconds\n",
      "Epoch: 071/999 | Loss: 0.0038 | Episodes: 139 | Win count: 23 | Win rate: 0.531 | time: 205.8 seconds\n",
      "Epoch: 072/999 | Loss: 0.0008 | Episodes: 134 | Win count: 23 | Win rate: 0.500 | time: 209.5 seconds\n",
      "Epoch: 073/999 | Loss: 0.0054 | Episodes: 16 | Win count: 24 | Win rate: 0.531 | time: 209.9 seconds\n",
      "Epoch: 074/999 | Loss: 0.0721 | Episodes: 5 | Win count: 25 | Win rate: 0.531 | time: 210.0 seconds\n",
      "Epoch: 075/999 | Loss: 0.0042 | Episodes: 1 | Win count: 26 | Win rate: 0.562 | time: 210.1 seconds\n",
      "Epoch: 076/999 | Loss: 0.0036 | Episodes: 144 | Win count: 26 | Win rate: 0.531 | time: 214.0 seconds\n",
      "Epoch: 077/999 | Loss: 0.0022 | Episodes: 142 | Win count: 26 | Win rate: 0.531 | time: 217.9 seconds\n",
      "Epoch: 078/999 | Loss: 0.0028 | Episodes: 148 | Win count: 26 | Win rate: 0.500 | time: 221.8 seconds\n",
      "Epoch: 079/999 | Loss: 0.0023 | Episodes: 147 | Win count: 26 | Win rate: 0.469 | time: 225.8 seconds\n",
      "Epoch: 080/999 | Loss: 0.0015 | Episodes: 6 | Win count: 27 | Win rate: 0.469 | time: 226.0 seconds\n",
      "Epoch: 081/999 | Loss: 0.0022 | Episodes: 4 | Win count: 28 | Win rate: 0.500 | time: 226.1 seconds\n",
      "Epoch: 082/999 | Loss: 0.0027 | Episodes: 8 | Win count: 29 | Win rate: 0.531 | time: 226.3 seconds\n",
      "Epoch: 083/999 | Loss: 0.0020 | Episodes: 136 | Win count: 29 | Win rate: 0.531 | time: 230.0 seconds\n",
      "Epoch: 084/999 | Loss: 0.0018 | Episodes: 4 | Win count: 30 | Win rate: 0.531 | time: 230.1 seconds\n",
      "Epoch: 085/999 | Loss: 0.0013 | Episodes: 17 | Win count: 31 | Win rate: 0.562 | time: 230.6 seconds\n",
      "Epoch: 086/999 | Loss: 0.0043 | Episodes: 9 | Win count: 32 | Win rate: 0.562 | time: 230.8 seconds\n",
      "Epoch: 087/999 | Loss: 0.0130 | Episodes: 10 | Win count: 33 | Win rate: 0.594 | time: 231.1 seconds\n",
      "Epoch: 088/999 | Loss: 0.0459 | Episodes: 146 | Win count: 33 | Win rate: 0.594 | time: 235.2 seconds\n",
      "Epoch: 089/999 | Loss: 0.0027 | Episodes: 139 | Win count: 33 | Win rate: 0.562 | time: 239.0 seconds\n",
      "Epoch: 090/999 | Loss: 0.0421 | Episodes: 1 | Win count: 34 | Win rate: 0.562 | time: 239.0 seconds\n",
      "Epoch: 091/999 | Loss: 0.0012 | Episodes: 140 | Win count: 34 | Win rate: 0.562 | time: 242.8 seconds\n",
      "Epoch: 092/999 | Loss: 0.0399 | Episodes: 12 | Win count: 35 | Win rate: 0.594 | time: 243.1 seconds\n",
      "Epoch: 093/999 | Loss: 0.0366 | Episodes: 11 | Win count: 36 | Win rate: 0.625 | time: 243.4 seconds\n",
      "Epoch: 094/999 | Loss: 0.0597 | Episodes: 142 | Win count: 36 | Win rate: 0.594 | time: 247.3 seconds\n",
      "Epoch: 095/999 | Loss: 0.0234 | Episodes: 9 | Win count: 37 | Win rate: 0.594 | time: 247.5 seconds\n",
      "Epoch: 096/999 | Loss: 0.0013 | Episodes: 145 | Win count: 37 | Win rate: 0.594 | time: 251.4 seconds\n",
      "Epoch: 097/999 | Loss: 0.0023 | Episodes: 140 | Win count: 37 | Win rate: 0.562 | time: 255.2 seconds\n",
      "Epoch: 098/999 | Loss: 0.0032 | Episodes: 136 | Win count: 37 | Win rate: 0.531 | time: 258.9 seconds\n",
      "Epoch: 099/999 | Loss: 0.0030 | Episodes: 139 | Win count: 37 | Win rate: 0.500 | time: 262.7 seconds\n",
      "Epoch: 100/999 | Loss: 0.0599 | Episodes: 142 | Win count: 37 | Win rate: 0.469 | time: 266.6 seconds\n",
      "Epoch: 101/999 | Loss: 0.0585 | Episodes: 139 | Win count: 37 | Win rate: 0.438 | time: 270.5 seconds\n",
      "Epoch: 102/999 | Loss: 0.0013 | Episodes: 144 | Win count: 37 | Win rate: 0.438 | time: 274.4 seconds\n",
      "Epoch: 103/999 | Loss: 0.0011 | Episodes: 2 | Win count: 38 | Win rate: 0.469 | time: 274.5 seconds\n",
      "Epoch: 104/999 | Loss: 0.0212 | Episodes: 2 | Win count: 39 | Win rate: 0.500 | time: 274.5 seconds\n",
      "Epoch: 105/999 | Loss: 0.0022 | Episodes: 139 | Win count: 39 | Win rate: 0.469 | time: 278.4 seconds\n",
      "Epoch: 106/999 | Loss: 0.0014 | Episodes: 139 | Win count: 39 | Win rate: 0.438 | time: 282.2 seconds\n",
      "Epoch: 107/999 | Loss: 0.0052 | Episodes: 7 | Win count: 40 | Win rate: 0.438 | time: 282.4 seconds\n",
      "Epoch: 108/999 | Loss: 0.0031 | Episodes: 9 | Win count: 41 | Win rate: 0.469 | time: 282.6 seconds\n",
      "Epoch: 109/999 | Loss: 0.0457 | Episodes: 17 | Win count: 42 | Win rate: 0.500 | time: 283.1 seconds\n",
      "Epoch: 110/999 | Loss: 0.0057 | Episodes: 7 | Win count: 43 | Win rate: 0.531 | time: 283.3 seconds\n",
      "Epoch: 111/999 | Loss: 0.0451 | Episodes: 7 | Win count: 44 | Win rate: 0.562 | time: 283.5 seconds\n",
      "Epoch: 112/999 | Loss: 0.0061 | Episodes: 10 | Win count: 45 | Win rate: 0.562 | time: 283.7 seconds\n",
      "Epoch: 113/999 | Loss: 0.0009 | Episodes: 139 | Win count: 45 | Win rate: 0.531 | time: 287.5 seconds\n",
      "Epoch: 114/999 | Loss: 0.0041 | Episodes: 63 | Win count: 46 | Win rate: 0.531 | time: 289.2 seconds\n",
      "Epoch: 115/999 | Loss: 0.0042 | Episodes: 9 | Win count: 47 | Win rate: 0.562 | time: 289.5 seconds\n",
      "Epoch: 116/999 | Loss: 0.0031 | Episodes: 9 | Win count: 48 | Win rate: 0.562 | time: 289.7 seconds\n",
      "Epoch: 117/999 | Loss: 0.0032 | Episodes: 21 | Win count: 49 | Win rate: 0.562 | time: 290.3 seconds\n",
      "Epoch: 118/999 | Loss: 0.0375 | Episodes: 2 | Win count: 50 | Win rate: 0.562 | time: 290.4 seconds\n",
      "Epoch: 119/999 | Loss: 0.0099 | Episodes: 47 | Win count: 51 | Win rate: 0.562 | time: 291.7 seconds\n",
      "Epoch: 120/999 | Loss: 0.0121 | Episodes: 1 | Win count: 52 | Win rate: 0.594 | time: 291.7 seconds\n",
      "Epoch: 121/999 | Loss: 0.0044 | Episodes: 2 | Win count: 53 | Win rate: 0.625 | time: 291.7 seconds\n",
      "Epoch: 122/999 | Loss: 0.0064 | Episodes: 2 | Win count: 54 | Win rate: 0.625 | time: 291.8 seconds\n",
      "Epoch: 123/999 | Loss: 0.0065 | Episodes: 38 | Win count: 55 | Win rate: 0.656 | time: 292.8 seconds\n",
      "Epoch: 124/999 | Loss: 0.0035 | Episodes: 32 | Win count: 56 | Win rate: 0.656 | time: 293.7 seconds\n",
      "Epoch: 125/999 | Loss: 0.0034 | Episodes: 44 | Win count: 57 | Win rate: 0.656 | time: 294.9 seconds\n",
      "Epoch: 126/999 | Loss: 0.0021 | Episodes: 12 | Win count: 58 | Win rate: 0.688 | time: 295.2 seconds\n",
      "Epoch: 127/999 | Loss: 0.0025 | Episodes: 34 | Win count: 59 | Win rate: 0.688 | time: 296.1 seconds\n",
      "Epoch: 128/999 | Loss: 0.0016 | Episodes: 27 | Win count: 60 | Win rate: 0.719 | time: 296.9 seconds\n",
      "Epoch: 129/999 | Loss: 0.0041 | Episodes: 70 | Win count: 61 | Win rate: 0.750 | time: 298.8 seconds\n",
      "Epoch: 130/999 | Loss: 0.0025 | Episodes: 26 | Win count: 62 | Win rate: 0.781 | time: 299.5 seconds\n",
      "Epoch: 131/999 | Loss: 0.0018 | Episodes: 35 | Win count: 63 | Win rate: 0.812 | time: 300.5 seconds\n",
      "Epoch: 132/999 | Loss: 0.0014 | Episodes: 7 | Win count: 64 | Win rate: 0.844 | time: 300.7 seconds\n",
      "Epoch: 133/999 | Loss: 0.0024 | Episodes: 25 | Win count: 65 | Win rate: 0.875 | time: 301.3 seconds\n",
      "Epoch: 134/999 | Loss: 0.0015 | Episodes: 23 | Win count: 66 | Win rate: 0.906 | time: 302.0 seconds\n",
      "Epoch: 135/999 | Loss: 0.0058 | Episodes: 17 | Win count: 67 | Win rate: 0.906 | time: 302.4 seconds\n",
      "Epoch: 136/999 | Loss: 0.0016 | Episodes: 28 | Win count: 68 | Win rate: 0.906 | time: 303.2 seconds\n",
      "Epoch: 137/999 | Loss: 0.0011 | Episodes: 8 | Win count: 69 | Win rate: 0.938 | time: 303.4 seconds\n",
      "Epoch: 138/999 | Loss: 0.0009 | Episodes: 27 | Win count: 70 | Win rate: 0.969 | time: 304.1 seconds\n",
      "Epoch: 139/999 | Loss: 0.0010 | Episodes: 25 | Win count: 71 | Win rate: 0.969 | time: 304.8 seconds\n",
      "Epoch: 140/999 | Loss: 0.0001 | Episodes: 37 | Win count: 72 | Win rate: 0.969 | time: 305.8 seconds\n",
      "Epoch: 141/999 | Loss: 0.0008 | Episodes: 28 | Win count: 73 | Win rate: 0.969 | time: 306.6 seconds\n",
      "Epoch: 142/999 | Loss: 0.0012 | Episodes: 5 | Win count: 74 | Win rate: 0.969 | time: 306.7 seconds\n",
      "Epoch: 143/999 | Loss: 0.0016 | Episodes: 7 | Win count: 75 | Win rate: 0.969 | time: 306.9 seconds\n",
      "Epoch: 144/999 | Loss: 0.0021 | Episodes: 7 | Win count: 76 | Win rate: 0.969 | time: 307.1 seconds\n",
      "Epoch: 145/999 | Loss: 0.0045 | Episodes: 11 | Win count: 77 | Win rate: 1.000 | time: 307.4 seconds\n",
      "Epoch: 146/999 | Loss: 0.0012 | Episodes: 15 | Win count: 78 | Win rate: 1.000 | time: 307.8 seconds\n",
      "Epoch: 147/999 | Loss: 0.0006 | Episodes: 3 | Win count: 79 | Win rate: 1.000 | time: 307.9 seconds\n",
      "Epoch: 148/999 | Loss: 0.0007 | Episodes: 6 | Win count: 80 | Win rate: 1.000 | time: 308.1 seconds\n",
      "Epoch: 149/999 | Loss: 0.0013 | Episodes: 44 | Win count: 81 | Win rate: 1.000 | time: 309.4 seconds\n",
      "Epoch: 150/999 | Loss: 0.0014 | Episodes: 27 | Win count: 82 | Win rate: 1.000 | time: 310.1 seconds\n",
      "Epoch: 151/999 | Loss: 0.0005 | Episodes: 14 | Win count: 83 | Win rate: 1.000 | time: 310.7 seconds\n",
      "Epoch: 152/999 | Loss: 0.0030 | Episodes: 15 | Win count: 84 | Win rate: 1.000 | time: 311.2 seconds\n",
      "Epoch: 153/999 | Loss: 0.0011 | Episodes: 19 | Win count: 85 | Win rate: 1.000 | time: 311.9 seconds\n",
      "Epoch: 154/999 | Loss: 0.0011 | Episodes: 8 | Win count: 86 | Win rate: 1.000 | time: 312.3 seconds\n",
      "Epoch: 155/999 | Loss: 0.0010 | Episodes: 39 | Win count: 87 | Win rate: 1.000 | time: 313.6 seconds\n",
      "Epoch: 156/999 | Loss: 0.0013 | Episodes: 17 | Win count: 88 | Win rate: 1.000 | time: 314.1 seconds\n",
      "Epoch: 157/999 | Loss: 0.0006 | Episodes: 9 | Win count: 89 | Win rate: 1.000 | time: 314.4 seconds\n",
      "Epoch: 158/999 | Loss: 0.0002 | Episodes: 27 | Win count: 90 | Win rate: 1.000 | time: 315.2 seconds\n",
      "Epoch: 159/999 | Loss: 0.0004 | Episodes: 35 | Win count: 91 | Win rate: 1.000 | time: 316.2 seconds\n",
      "Epoch: 160/999 | Loss: 0.0009 | Episodes: 27 | Win count: 92 | Win rate: 1.000 | time: 317.0 seconds\n",
      "Epoch: 161/999 | Loss: 0.0009 | Episodes: 17 | Win count: 93 | Win rate: 1.000 | time: 317.5 seconds\n",
      "Epoch: 162/999 | Loss: 0.0016 | Episodes: 8 | Win count: 94 | Win rate: 1.000 | time: 318.0 seconds\n",
      "Epoch: 163/999 | Loss: 0.0007 | Episodes: 23 | Win count: 95 | Win rate: 1.000 | time: 318.8 seconds\n",
      "Epoch: 164/999 | Loss: 0.0007 | Episodes: 17 | Win count: 96 | Win rate: 1.000 | time: 319.3 seconds\n",
      "Epoch: 165/999 | Loss: 0.0017 | Episodes: 21 | Win count: 97 | Win rate: 1.000 | time: 319.9 seconds\n",
      "Epoch: 166/999 | Loss: 0.0005 | Episodes: 24 | Win count: 98 | Win rate: 1.000 | time: 320.6 seconds\n",
      "Epoch: 167/999 | Loss: 0.0011 | Episodes: 13 | Win count: 99 | Win rate: 1.000 | time: 321.1 seconds\n",
      "Epoch: 168/999 | Loss: 0.0010 | Episodes: 1 | Win count: 100 | Win rate: 1.000 | time: 321.1 seconds\n",
      "Epoch: 169/999 | Loss: 0.0004 | Episodes: 5 | Win count: 101 | Win rate: 1.000 | time: 321.3 seconds\n",
      "Epoch: 170/999 | Loss: 0.0008 | Episodes: 7 | Win count: 102 | Win rate: 1.000 | time: 321.5 seconds\n",
      "Epoch: 171/999 | Loss: 0.0004 | Episodes: 17 | Win count: 103 | Win rate: 1.000 | time: 322.0 seconds\n",
      "Epoch: 172/999 | Loss: 0.0004 | Episodes: 25 | Win count: 104 | Win rate: 1.000 | time: 322.7 seconds\n",
      "Epoch: 173/999 | Loss: 0.0009 | Episodes: 16 | Win count: 105 | Win rate: 1.000 | time: 323.2 seconds\n",
      "Epoch: 174/999 | Loss: 0.0006 | Episodes: 36 | Win count: 106 | Win rate: 1.000 | time: 324.2 seconds\n",
      "Epoch: 175/999 | Loss: 0.0011 | Episodes: 4 | Win count: 107 | Win rate: 1.000 | time: 324.4 seconds\n",
      "Epoch: 176/999 | Loss: 0.0011 | Episodes: 8 | Win count: 108 | Win rate: 1.000 | time: 324.6 seconds\n",
      "Epoch: 177/999 | Loss: 0.0002 | Episodes: 37 | Win count: 109 | Win rate: 1.000 | time: 325.7 seconds\n",
      "Epoch: 178/999 | Loss: 0.0010 | Episodes: 15 | Win count: 110 | Win rate: 1.000 | time: 326.1 seconds\n",
      "Epoch: 179/999 | Loss: 0.0007 | Episodes: 11 | Win count: 111 | Win rate: 1.000 | time: 326.5 seconds\n",
      "Epoch: 180/999 | Loss: 0.0009 | Episodes: 17 | Win count: 112 | Win rate: 1.000 | time: 327.0 seconds\n",
      "Epoch: 181/999 | Loss: 0.0007 | Episodes: 11 | Win count: 113 | Win rate: 1.000 | time: 327.3 seconds\n",
      "Epoch: 182/999 | Loss: 0.0008 | Episodes: 27 | Win count: 114 | Win rate: 1.000 | time: 328.1 seconds\n",
      "Epoch: 183/999 | Loss: 0.0001 | Episodes: 25 | Win count: 115 | Win rate: 1.000 | time: 328.8 seconds\n",
      "Epoch: 184/999 | Loss: 0.0002 | Episodes: 27 | Win count: 116 | Win rate: 1.000 | time: 329.5 seconds\n",
      "Epoch: 185/999 | Loss: 0.0006 | Episodes: 5 | Win count: 117 | Win rate: 1.000 | time: 329.7 seconds\n",
      "Epoch: 186/999 | Loss: 0.0003 | Episodes: 12 | Win count: 118 | Win rate: 1.000 | time: 330.1 seconds\n",
      "Epoch: 187/999 | Loss: 0.0004 | Episodes: 19 | Win count: 119 | Win rate: 1.000 | time: 330.6 seconds\n",
      "Epoch: 188/999 | Loss: 0.0001 | Episodes: 7 | Win count: 120 | Win rate: 1.000 | time: 330.9 seconds\n",
      "Epoch: 189/999 | Loss: 0.0002 | Episodes: 28 | Win count: 121 | Win rate: 1.000 | time: 331.7 seconds\n",
      "Epoch: 190/999 | Loss: 0.0002 | Episodes: 25 | Win count: 122 | Win rate: 1.000 | time: 332.4 seconds\n",
      "Epoch: 191/999 | Loss: 0.0005 | Episodes: 5 | Win count: 123 | Win rate: 1.000 | time: 332.6 seconds\n",
      "Epoch: 192/999 | Loss: 0.0008 | Episodes: 17 | Win count: 124 | Win rate: 1.000 | time: 333.1 seconds\n",
      "Epoch: 193/999 | Loss: 0.0006 | Episodes: 21 | Win count: 125 | Win rate: 1.000 | time: 333.7 seconds\n",
      "Epoch: 194/999 | Loss: 0.0006 | Episodes: 14 | Win count: 126 | Win rate: 1.000 | time: 334.1 seconds\n",
      "Epoch: 195/999 | Loss: 0.0003 | Episodes: 7 | Win count: 127 | Win rate: 1.000 | time: 334.4 seconds\n",
      "Epoch: 196/999 | Loss: 0.0003 | Episodes: 21 | Win count: 128 | Win rate: 1.000 | time: 335.0 seconds\n",
      "Epoch: 197/999 | Loss: 0.0001 | Episodes: 12 | Win count: 129 | Win rate: 1.000 | time: 335.3 seconds\n",
      "Epoch: 198/999 | Loss: 0.0001 | Episodes: 22 | Win count: 130 | Win rate: 1.000 | time: 336.0 seconds\n",
      "Epoch: 199/999 | Loss: 0.0003 | Episodes: 13 | Win count: 131 | Win rate: 1.000 | time: 336.4 seconds\n",
      "Epoch: 200/999 | Loss: 0.0010 | Episodes: 9 | Win count: 132 | Win rate: 1.000 | time: 336.6 seconds\n",
      "Epoch: 201/999 | Loss: 0.0004 | Episodes: 20 | Win count: 133 | Win rate: 1.000 | time: 337.4 seconds\n",
      "Epoch: 202/999 | Loss: 0.0007 | Episodes: 28 | Win count: 134 | Win rate: 1.000 | time: 338.2 seconds\n",
      "Epoch: 203/999 | Loss: 0.0008 | Episodes: 1 | Win count: 135 | Win rate: 1.000 | time: 338.3 seconds\n",
      "Epoch: 204/999 | Loss: 0.0004 | Episodes: 41 | Win count: 136 | Win rate: 1.000 | time: 339.5 seconds\n",
      "Epoch: 205/999 | Loss: 0.0001 | Episodes: 9 | Win count: 137 | Win rate: 1.000 | time: 339.8 seconds\n",
      "Reached 100% win rate at epoch: 205\n",
      "\n",
      "\n",
      "files: model.h5, model.json\n",
      "n_epoch: 205, max_mem: 512, data: 32, time: 340.0 seconds\n"
     ]
    },
    {
     "data": {
      "text/plain": [
       "340.027067"
      ]
     },
     "execution_count": 4,
     "metadata": {},
     "output_type": "execute_result"
    }
   ],
   "source": [
    "model = utils.build_model(maze, num_actions=num_actions)\n",
    "\n",
    "# default settings:\n",
    "# n_epoch=15'000 | max_memory=1000 | data_size=50\n",
    "utils.qtrain(model=model, maze=maze, n_epoch=1000, max_memory=8*maze.size, data_size=32, rat_mark=rat_mark, epsilon=epsilon)"
   ]
  },
  {
   "cell_type": "code",
   "execution_count": 5,
   "metadata": {},
   "outputs": [
    {
     "data": {
      "text/plain": [
       "True"
      ]
     },
     "execution_count": 5,
     "metadata": {},
     "output_type": "execute_result"
    }
   ],
   "source": [
    "# Does the model win for all possible free-cells?\n",
    "#    (this check is being done inside train-function)\n",
    "utils.completion_check(model=model, qmaze=utils.Qmaze(maze))"
   ]
  },
  {
   "cell_type": "code",
   "execution_count": 6,
   "metadata": {},
   "outputs": [
    {
     "data": {
      "text/plain": [
       "True"
      ]
     },
     "execution_count": 6,
     "metadata": {},
     "output_type": "execute_result"
    },
    {
     "data": {
      "image/png": "[encoded data removed]",
      "text/plain": [
       "<matplotlib.figure.Figure at 0x1dc07576f28>"
      ]
     },
     "metadata": {},
     "output_type": "display_data"
    }
   ],
   "source": [
    "utils.play_game_and_plot(model=model, qmaze=utils.Qmaze(maze), rat_cell=(0,0), folder_name_pngs=folder_name_pngs)"
   ]
  },
  {
   "cell_type": "code",
   "execution_count": 8,
   "metadata": {},
   "outputs": [],
   "source": [
    "filenames_pngs = os.listdir(folder_name_pngs)\n",
    "utils.create_gif(folder_name_pngs, folder_name_gif, filenames_pngs)"
   ]
  },
  {
   "cell_type": "markdown",
   "metadata": {},
   "source": [
    "Finished"
   ]
  }
 ],
 "metadata": {
  "kernelspec": {
   "display_name": "Python 3",
   "language": "python",
   "name": "python3"
  },
  "language_info": {
   "codemirror_mode": {
    "name": "ipython",
    "version": 3
   },
   "file_extension": ".py",
   "mimetype": "text/x-python",
   "name": "python",
   "nbconvert_exporter": "python",
   "pygments_lexer": "ipython3",
   "version": "3.6.6"
  }
 },
 "nbformat": 4,
 "nbformat_minor": 2
}
